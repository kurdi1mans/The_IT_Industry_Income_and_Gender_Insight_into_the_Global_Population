{
 "cells": [
  {
   "cell_type": "markdown",
   "metadata": {},
   "source": [
    "# The IT Industry .. Income and Gender Insight into the Global Population"
   ]
  },
  {
   "cell_type": "markdown",
   "metadata": {},
   "source": [
    "----------------------------\n",
    "# 1 - Business Understanding"
   ]
  },
  {
   "cell_type": "markdown",
   "metadata": {},
   "source": [
    "Programmers from around the world do similar things. Indeed, the software industry is one of few industries where the skill set and knowledge is very, for the lack of a better word, Standardaized. The average web developer in China is very likely to be doing the same kind of work of a developed in Canada. \n",
    "\n",
    "Since we have this great similarity of the work being done, it would be imperative to wounder about whether these individuals are paid equally. Moreover, it is also of interest to know if there are pay gaps, over-representation, or any other form of dissimilarity across the global programmers population.\n",
    "\n",
    "In this article, I'll be using the StackOverflow survey of programmers from the year 2018 to investigate a couple of questions in an attempt to shed some light on these dissimilarities:\n",
    "\n",
    "- Question 1: Assuming that Stackoverflow users are representative of the whole world population, Are there any contries over-represented or under-represented in the programmers dataset?\n",
    "- Question 2: What is the gender representation in the workforce per country?\n",
    "- Question 3: Can we find a correlation between countries where programmers have lower income and contries were the whole economy has a lower GDP per captial?\n",
    "- Question 4: What are the most infulencial dimensions in predicting an individuals income?"
   ]
  },
  {
   "cell_type": "markdown",
   "metadata": {},
   "source": [
    "--------------------------------\n",
    "# 2 - Data Understanding"
   ]
  },
  {
   "cell_type": "markdown",
   "metadata": {},
   "source": [
    "## 2.1 - Loading Data"
   ]
  },
  {
   "cell_type": "code",
   "execution_count": 1,
   "metadata": {},
   "outputs": [],
   "source": [
    "import pandas as pd\n",
    "import seaborn as sns\n",
    "import numpy as np"
   ]
  },
  {
   "cell_type": "code",
   "execution_count": 2,
   "metadata": {},
   "outputs": [
    {
     "name": "stderr",
     "output_type": "stream",
     "text": [
      "/usr/local/anaconda/lib/python3.7/site-packages/IPython/core/interactiveshell.py:3049: DtypeWarning: Columns (8,12,13,14,15,16,50,51,52,53,55,56,57,58,59,60,61,62,63,64,65,66,67,68,69,70,71,72,73,74,75,76,77,78,79,80,81,82,83,84,85,93,94,95,96,97,98,99,100,101,102,103,104,105,106,107,108,109,110,111,112,113,114,115,116,117,118,119,120,121,122,123,124,125,126,127,128) have mixed types. Specify dtype option on import or set low_memory=False.\n",
      "  interactivity=interactivity, compiler=compiler, result=result)\n"
     ]
    }
   ],
   "source": [
    "# 2018 StackOverflow Survey data from StackOverflow website\n",
    "# source: https://insights.stackoverflow.com/survey\n",
    "survey_data = pd.read_csv('./survey_results_public.csv')\n",
    "survey_schema = pd.read_csv('./survey_results_schema.csv')\n",
    "\n",
    "# GDP per captia data from the World Bank\n",
    "# source: https://data.worldbank.org/indicator/NY.GDP.PCAP.PP.CD\n",
    "gdp_per_captia_data = pd.read_csv(\"./API_NY_GDP_PCAP_PP_CD_DS2_en_csv_v2_247784.csv\")\n",
    "\n",
    "# Polulation per Country data from the World Bank\n",
    "# source: https://data.worldbank.org/indicator/SP.POP.TOTL\n",
    "\n",
    "population_data = pd.read_csv(\"./API_SP_POP_TOTL_DS2_en_csv_v2_247892.csv\")"
   ]
  },
  {
   "cell_type": "markdown",
   "metadata": {},
   "source": [
    "## 2.2 - Metadata Analysis of Datasets"
   ]
  },
  {
   "cell_type": "code",
   "execution_count": 3,
   "metadata": {},
   "outputs": [
    {
     "data": {
      "text/plain": [
       "(98855, 129)"
      ]
     },
     "execution_count": 3,
     "metadata": {},
     "output_type": "execute_result"
    }
   ],
   "source": [
    "# let's take a look at the size of the dataset we are investigating\n",
    "survey_data.shape"
   ]
  },
  {
   "cell_type": "code",
   "execution_count": 4,
   "metadata": {},
   "outputs": [
    {
     "data": {
      "text/html": [
       "<div>\n",
       "<style scoped>\n",
       "    .dataframe tbody tr th:only-of-type {\n",
       "        vertical-align: middle;\n",
       "    }\n",
       "\n",
       "    .dataframe tbody tr th {\n",
       "        vertical-align: top;\n",
       "    }\n",
       "\n",
       "    .dataframe thead th {\n",
       "        text-align: right;\n",
       "    }\n",
       "</style>\n",
       "<table border=\"1\" class=\"dataframe\">\n",
       "  <thead>\n",
       "    <tr style=\"text-align: right;\">\n",
       "      <th></th>\n",
       "      <th>Column</th>\n",
       "      <th>QuestionText</th>\n",
       "    </tr>\n",
       "  </thead>\n",
       "  <tbody>\n",
       "    <tr>\n",
       "      <th>40</th>\n",
       "      <td>JobContactPriorities3</td>\n",
       "      <td>Imagine that a company wanted to contact you a...</td>\n",
       "    </tr>\n",
       "    <tr>\n",
       "      <th>41</th>\n",
       "      <td>JobContactPriorities4</td>\n",
       "      <td>Imagine that a company wanted to contact you a...</td>\n",
       "    </tr>\n",
       "    <tr>\n",
       "      <th>42</th>\n",
       "      <td>JobContactPriorities5</td>\n",
       "      <td>Imagine that a company wanted to contact you a...</td>\n",
       "    </tr>\n",
       "    <tr>\n",
       "      <th>43</th>\n",
       "      <td>JobEmailPriorities1</td>\n",
       "      <td>Imagine that same company decided to contact y...</td>\n",
       "    </tr>\n",
       "    <tr>\n",
       "      <th>44</th>\n",
       "      <td>JobEmailPriorities2</td>\n",
       "      <td>Imagine that same company decided to contact y...</td>\n",
       "    </tr>\n",
       "    <tr>\n",
       "      <th>45</th>\n",
       "      <td>JobEmailPriorities3</td>\n",
       "      <td>Imagine that same company decided to contact y...</td>\n",
       "    </tr>\n",
       "    <tr>\n",
       "      <th>46</th>\n",
       "      <td>JobEmailPriorities4</td>\n",
       "      <td>Imagine that same company decided to contact y...</td>\n",
       "    </tr>\n",
       "    <tr>\n",
       "      <th>47</th>\n",
       "      <td>JobEmailPriorities5</td>\n",
       "      <td>Imagine that same company decided to contact y...</td>\n",
       "    </tr>\n",
       "    <tr>\n",
       "      <th>48</th>\n",
       "      <td>JobEmailPriorities6</td>\n",
       "      <td>Imagine that same company decided to contact y...</td>\n",
       "    </tr>\n",
       "    <tr>\n",
       "      <th>49</th>\n",
       "      <td>JobEmailPriorities7</td>\n",
       "      <td>Imagine that same company decided to contact y...</td>\n",
       "    </tr>\n",
       "    <tr>\n",
       "      <th>50</th>\n",
       "      <td>UpdateCV</td>\n",
       "      <td>Think back to the last time you updated your r...</td>\n",
       "    </tr>\n",
       "    <tr>\n",
       "      <th>51</th>\n",
       "      <td>Currency</td>\n",
       "      <td>Which currency do you use day-to-day? If your ...</td>\n",
       "    </tr>\n",
       "    <tr>\n",
       "      <th>52</th>\n",
       "      <td>Salary</td>\n",
       "      <td>What is your current gross salary (before taxe...</td>\n",
       "    </tr>\n",
       "    <tr>\n",
       "      <th>53</th>\n",
       "      <td>SalaryType</td>\n",
       "      <td>Is that salary weekly, monthly, or yearly?</td>\n",
       "    </tr>\n",
       "    <tr>\n",
       "      <th>54</th>\n",
       "      <td>ConvertedSalary</td>\n",
       "      <td>Salary converted to annual USD salaries using ...</td>\n",
       "    </tr>\n",
       "    <tr>\n",
       "      <th>55</th>\n",
       "      <td>CurrencySymbol</td>\n",
       "      <td>Three digit currency abbreviation.</td>\n",
       "    </tr>\n",
       "    <tr>\n",
       "      <th>56</th>\n",
       "      <td>CommunicationTools</td>\n",
       "      <td>Which of the following tools do you use to com...</td>\n",
       "    </tr>\n",
       "    <tr>\n",
       "      <th>57</th>\n",
       "      <td>TimeFullyProductive</td>\n",
       "      <td>Suppose a new developer with four years of exp...</td>\n",
       "    </tr>\n",
       "    <tr>\n",
       "      <th>58</th>\n",
       "      <td>EducationTypes</td>\n",
       "      <td>Which of the following types of non-degree edu...</td>\n",
       "    </tr>\n",
       "    <tr>\n",
       "      <th>59</th>\n",
       "      <td>SelfTaughtTypes</td>\n",
       "      <td>You indicated that you had taught yourself a p...</td>\n",
       "    </tr>\n",
       "    <tr>\n",
       "      <th>60</th>\n",
       "      <td>TimeAfterBootcamp</td>\n",
       "      <td>You indicated previously that you went through...</td>\n",
       "    </tr>\n",
       "    <tr>\n",
       "      <th>61</th>\n",
       "      <td>HackathonReasons</td>\n",
       "      <td>You indicated previously that you had particip...</td>\n",
       "    </tr>\n",
       "    <tr>\n",
       "      <th>62</th>\n",
       "      <td>AgreeDisagree1</td>\n",
       "      <td>To what extent do you agree or disagree with e...</td>\n",
       "    </tr>\n",
       "    <tr>\n",
       "      <th>63</th>\n",
       "      <td>AgreeDisagree2</td>\n",
       "      <td>To what extent do you agree or disagree with e...</td>\n",
       "    </tr>\n",
       "    <tr>\n",
       "      <th>64</th>\n",
       "      <td>AgreeDisagree3</td>\n",
       "      <td>To what extent do you agree or disagree with e...</td>\n",
       "    </tr>\n",
       "    <tr>\n",
       "      <th>65</th>\n",
       "      <td>LanguageWorkedWith</td>\n",
       "      <td>Which of the following programming, scripting,...</td>\n",
       "    </tr>\n",
       "    <tr>\n",
       "      <th>66</th>\n",
       "      <td>LanguageDesireNextYear</td>\n",
       "      <td>Which of the following programming, scripting,...</td>\n",
       "    </tr>\n",
       "    <tr>\n",
       "      <th>67</th>\n",
       "      <td>DatabaseWorkedWith</td>\n",
       "      <td>Which of the following database environments h...</td>\n",
       "    </tr>\n",
       "    <tr>\n",
       "      <th>68</th>\n",
       "      <td>DatabaseDesireNextYear</td>\n",
       "      <td>Which of the following database environments h...</td>\n",
       "    </tr>\n",
       "    <tr>\n",
       "      <th>69</th>\n",
       "      <td>PlatformWorkedWith</td>\n",
       "      <td>Which of the following platforms have you done...</td>\n",
       "    </tr>\n",
       "    <tr>\n",
       "      <th>...</th>\n",
       "      <td>...</td>\n",
       "      <td>...</td>\n",
       "    </tr>\n",
       "    <tr>\n",
       "      <th>99</th>\n",
       "      <td>EthicsResponsible</td>\n",
       "      <td>Who do you believe is ultimately most responsi...</td>\n",
       "    </tr>\n",
       "    <tr>\n",
       "      <th>100</th>\n",
       "      <td>EthicalImplications</td>\n",
       "      <td>Do you believe that you have an obligation to ...</td>\n",
       "    </tr>\n",
       "    <tr>\n",
       "      <th>101</th>\n",
       "      <td>StackOverflowRecommend</td>\n",
       "      <td>How likely is it that you would recommend Stac...</td>\n",
       "    </tr>\n",
       "    <tr>\n",
       "      <th>102</th>\n",
       "      <td>StackOverflowVisit</td>\n",
       "      <td>How frequently would you say you visit Stack O...</td>\n",
       "    </tr>\n",
       "    <tr>\n",
       "      <th>103</th>\n",
       "      <td>StackOverflowHasAccount</td>\n",
       "      <td>Do you have a Stack Overflow account?</td>\n",
       "    </tr>\n",
       "    <tr>\n",
       "      <th>104</th>\n",
       "      <td>StackOverflowParticipate</td>\n",
       "      <td>How frequently would you say you participate i...</td>\n",
       "    </tr>\n",
       "    <tr>\n",
       "      <th>105</th>\n",
       "      <td>StackOverflowJobs</td>\n",
       "      <td>Have you ever used or visited Stack Overflow J...</td>\n",
       "    </tr>\n",
       "    <tr>\n",
       "      <th>106</th>\n",
       "      <td>StackOverflowDevStory</td>\n",
       "      <td>Do you have an up-to-date Developer Story on S...</td>\n",
       "    </tr>\n",
       "    <tr>\n",
       "      <th>107</th>\n",
       "      <td>StackOverflowJobsRecommend</td>\n",
       "      <td>How likely is it that you would recommend Stac...</td>\n",
       "    </tr>\n",
       "    <tr>\n",
       "      <th>108</th>\n",
       "      <td>StackOverflowConsiderMember</td>\n",
       "      <td>Do you consider yourself a member of the Stack...</td>\n",
       "    </tr>\n",
       "    <tr>\n",
       "      <th>109</th>\n",
       "      <td>HypotheticalTools1</td>\n",
       "      <td>Please rate your interest in participating in ...</td>\n",
       "    </tr>\n",
       "    <tr>\n",
       "      <th>110</th>\n",
       "      <td>HypotheticalTools2</td>\n",
       "      <td>Please rate your interest in participating in ...</td>\n",
       "    </tr>\n",
       "    <tr>\n",
       "      <th>111</th>\n",
       "      <td>HypotheticalTools3</td>\n",
       "      <td>Please rate your interest in participating in ...</td>\n",
       "    </tr>\n",
       "    <tr>\n",
       "      <th>112</th>\n",
       "      <td>HypotheticalTools4</td>\n",
       "      <td>Please rate your interest in participating in ...</td>\n",
       "    </tr>\n",
       "    <tr>\n",
       "      <th>113</th>\n",
       "      <td>HypotheticalTools5</td>\n",
       "      <td>Please rate your interest in participating in ...</td>\n",
       "    </tr>\n",
       "    <tr>\n",
       "      <th>114</th>\n",
       "      <td>WakeTime</td>\n",
       "      <td>On days when you work, what time do you typica...</td>\n",
       "    </tr>\n",
       "    <tr>\n",
       "      <th>115</th>\n",
       "      <td>HoursComputer</td>\n",
       "      <td>On a typical day, how much time do you spend o...</td>\n",
       "    </tr>\n",
       "    <tr>\n",
       "      <th>116</th>\n",
       "      <td>HoursOutside</td>\n",
       "      <td>On a typical day, how much time do you spend o...</td>\n",
       "    </tr>\n",
       "    <tr>\n",
       "      <th>117</th>\n",
       "      <td>SkipMeals</td>\n",
       "      <td>In a typical week, how many times do you skip ...</td>\n",
       "    </tr>\n",
       "    <tr>\n",
       "      <th>118</th>\n",
       "      <td>ErgonomicDevices</td>\n",
       "      <td>What ergonomic furniture or devices do you use...</td>\n",
       "    </tr>\n",
       "    <tr>\n",
       "      <th>119</th>\n",
       "      <td>Exercise</td>\n",
       "      <td>In a typical week, how many times do you exerc...</td>\n",
       "    </tr>\n",
       "    <tr>\n",
       "      <th>120</th>\n",
       "      <td>Gender</td>\n",
       "      <td>Which of the following do you currently identi...</td>\n",
       "    </tr>\n",
       "    <tr>\n",
       "      <th>121</th>\n",
       "      <td>SexualOrientation</td>\n",
       "      <td>Which of the following do you currently identi...</td>\n",
       "    </tr>\n",
       "    <tr>\n",
       "      <th>122</th>\n",
       "      <td>EducationParents</td>\n",
       "      <td>What is the highest level of education receive...</td>\n",
       "    </tr>\n",
       "    <tr>\n",
       "      <th>123</th>\n",
       "      <td>RaceEthnicity</td>\n",
       "      <td>Which of the following do you identify as? Ple...</td>\n",
       "    </tr>\n",
       "    <tr>\n",
       "      <th>124</th>\n",
       "      <td>Age</td>\n",
       "      <td>What is your age? If you prefer not to answer,...</td>\n",
       "    </tr>\n",
       "    <tr>\n",
       "      <th>125</th>\n",
       "      <td>Dependents</td>\n",
       "      <td>Do you have any children or other dependents t...</td>\n",
       "    </tr>\n",
       "    <tr>\n",
       "      <th>126</th>\n",
       "      <td>MilitaryUS</td>\n",
       "      <td>Are you currently serving or have you ever ser...</td>\n",
       "    </tr>\n",
       "    <tr>\n",
       "      <th>127</th>\n",
       "      <td>SurveyTooLong</td>\n",
       "      <td>How do you feel about the length of the survey...</td>\n",
       "    </tr>\n",
       "    <tr>\n",
       "      <th>128</th>\n",
       "      <td>SurveyEasy</td>\n",
       "      <td>How easy or difficult was this survey to compl...</td>\n",
       "    </tr>\n",
       "  </tbody>\n",
       "</table>\n",
       "<p>89 rows × 2 columns</p>\n",
       "</div>"
      ],
      "text/plain": [
       "                          Column  \\\n",
       "40         JobContactPriorities3   \n",
       "41         JobContactPriorities4   \n",
       "42         JobContactPriorities5   \n",
       "43           JobEmailPriorities1   \n",
       "44           JobEmailPriorities2   \n",
       "45           JobEmailPriorities3   \n",
       "46           JobEmailPriorities4   \n",
       "47           JobEmailPriorities5   \n",
       "48           JobEmailPriorities6   \n",
       "49           JobEmailPriorities7   \n",
       "50                      UpdateCV   \n",
       "51                      Currency   \n",
       "52                        Salary   \n",
       "53                    SalaryType   \n",
       "54               ConvertedSalary   \n",
       "55                CurrencySymbol   \n",
       "56            CommunicationTools   \n",
       "57           TimeFullyProductive   \n",
       "58                EducationTypes   \n",
       "59               SelfTaughtTypes   \n",
       "60             TimeAfterBootcamp   \n",
       "61              HackathonReasons   \n",
       "62                AgreeDisagree1   \n",
       "63                AgreeDisagree2   \n",
       "64                AgreeDisagree3   \n",
       "65            LanguageWorkedWith   \n",
       "66        LanguageDesireNextYear   \n",
       "67            DatabaseWorkedWith   \n",
       "68        DatabaseDesireNextYear   \n",
       "69            PlatformWorkedWith   \n",
       "..                           ...   \n",
       "99             EthicsResponsible   \n",
       "100          EthicalImplications   \n",
       "101       StackOverflowRecommend   \n",
       "102           StackOverflowVisit   \n",
       "103      StackOverflowHasAccount   \n",
       "104     StackOverflowParticipate   \n",
       "105            StackOverflowJobs   \n",
       "106        StackOverflowDevStory   \n",
       "107   StackOverflowJobsRecommend   \n",
       "108  StackOverflowConsiderMember   \n",
       "109           HypotheticalTools1   \n",
       "110           HypotheticalTools2   \n",
       "111           HypotheticalTools3   \n",
       "112           HypotheticalTools4   \n",
       "113           HypotheticalTools5   \n",
       "114                     WakeTime   \n",
       "115                HoursComputer   \n",
       "116                 HoursOutside   \n",
       "117                    SkipMeals   \n",
       "118             ErgonomicDevices   \n",
       "119                     Exercise   \n",
       "120                       Gender   \n",
       "121            SexualOrientation   \n",
       "122             EducationParents   \n",
       "123                RaceEthnicity   \n",
       "124                          Age   \n",
       "125                   Dependents   \n",
       "126                   MilitaryUS   \n",
       "127                SurveyTooLong   \n",
       "128                   SurveyEasy   \n",
       "\n",
       "                                          QuestionText  \n",
       "40   Imagine that a company wanted to contact you a...  \n",
       "41   Imagine that a company wanted to contact you a...  \n",
       "42   Imagine that a company wanted to contact you a...  \n",
       "43   Imagine that same company decided to contact y...  \n",
       "44   Imagine that same company decided to contact y...  \n",
       "45   Imagine that same company decided to contact y...  \n",
       "46   Imagine that same company decided to contact y...  \n",
       "47   Imagine that same company decided to contact y...  \n",
       "48   Imagine that same company decided to contact y...  \n",
       "49   Imagine that same company decided to contact y...  \n",
       "50   Think back to the last time you updated your r...  \n",
       "51   Which currency do you use day-to-day? If your ...  \n",
       "52   What is your current gross salary (before taxe...  \n",
       "53          Is that salary weekly, monthly, or yearly?  \n",
       "54   Salary converted to annual USD salaries using ...  \n",
       "55                  Three digit currency abbreviation.  \n",
       "56   Which of the following tools do you use to com...  \n",
       "57   Suppose a new developer with four years of exp...  \n",
       "58   Which of the following types of non-degree edu...  \n",
       "59   You indicated that you had taught yourself a p...  \n",
       "60   You indicated previously that you went through...  \n",
       "61   You indicated previously that you had particip...  \n",
       "62   To what extent do you agree or disagree with e...  \n",
       "63   To what extent do you agree or disagree with e...  \n",
       "64   To what extent do you agree or disagree with e...  \n",
       "65   Which of the following programming, scripting,...  \n",
       "66   Which of the following programming, scripting,...  \n",
       "67   Which of the following database environments h...  \n",
       "68   Which of the following database environments h...  \n",
       "69   Which of the following platforms have you done...  \n",
       "..                                                 ...  \n",
       "99   Who do you believe is ultimately most responsi...  \n",
       "100  Do you believe that you have an obligation to ...  \n",
       "101  How likely is it that you would recommend Stac...  \n",
       "102  How frequently would you say you visit Stack O...  \n",
       "103              Do you have a Stack Overflow account?  \n",
       "104  How frequently would you say you participate i...  \n",
       "105  Have you ever used or visited Stack Overflow J...  \n",
       "106  Do you have an up-to-date Developer Story on S...  \n",
       "107  How likely is it that you would recommend Stac...  \n",
       "108  Do you consider yourself a member of the Stack...  \n",
       "109  Please rate your interest in participating in ...  \n",
       "110  Please rate your interest in participating in ...  \n",
       "111  Please rate your interest in participating in ...  \n",
       "112  Please rate your interest in participating in ...  \n",
       "113  Please rate your interest in participating in ...  \n",
       "114  On days when you work, what time do you typica...  \n",
       "115  On a typical day, how much time do you spend o...  \n",
       "116  On a typical day, how much time do you spend o...  \n",
       "117  In a typical week, how many times do you skip ...  \n",
       "118  What ergonomic furniture or devices do you use...  \n",
       "119  In a typical week, how many times do you exerc...  \n",
       "120  Which of the following do you currently identi...  \n",
       "121  Which of the following do you currently identi...  \n",
       "122  What is the highest level of education receive...  \n",
       "123  Which of the following do you identify as? Ple...  \n",
       "124  What is your age? If you prefer not to answer,...  \n",
       "125  Do you have any children or other dependents t...  \n",
       "126  Are you currently serving or have you ever ser...  \n",
       "127  How do you feel about the length of the survey...  \n",
       "128  How easy or difficult was this survey to compl...  \n",
       "\n",
       "[89 rows x 2 columns]"
      ]
     },
     "execution_count": 4,
     "metadata": {},
     "output_type": "execute_result"
    }
   ],
   "source": [
    "# we also need to understand what each dimension means in order to form some basic understanding of the data at hand\n",
    "survey_schema.loc[40:129]"
   ]
  },
  {
   "cell_type": "code",
   "execution_count": 5,
   "metadata": {},
   "outputs": [],
   "source": [
    "'''\n",
    "Here I am defining a function that will be used to summarize the metadata for each column in the dataset.\n",
    "It will give us some insight on the number (and percentage of) missing values, number of unique values, and more.\n",
    "'''\n",
    "def get_columns_metadata(dataset,column_type=None,inclusive=True):\n",
    "    dtype = dataset.dtypes\n",
    "    nunique = dataset.nunique()\n",
    "    total_count = nunique/nunique*len(dataset)\n",
    "    null_count = dataset.isna().sum()\n",
    "    percent_null = null_count/total_count*100\n",
    "    not_null_count = total_count-null_count\n",
    "    percent_not_null = not_null_count/total_count*100\n",
    "    \n",
    "    result = pd.concat([dtype,nunique,total_count,null_count,percent_null,not_null_count,percent_not_null],axis=1)\n",
    "    result.columns = ['dtype','nunique','total_count','null_count','percent_null','not_null_count','percent_not_null']\n",
    "    if column_type is None:\n",
    "        pass\n",
    "    else:\n",
    "        if inclusive:\n",
    "            result = result[result['dtype']==column_type]\n",
    "        else:\n",
    "            result = result[result['dtype']!=column_type]\n",
    "    return result"
   ]
  },
  {
   "cell_type": "code",
   "execution_count": 6,
   "metadata": {},
   "outputs": [
    {
     "data": {
      "text/html": [
       "<div>\n",
       "<style scoped>\n",
       "    .dataframe tbody tr th:only-of-type {\n",
       "        vertical-align: middle;\n",
       "    }\n",
       "\n",
       "    .dataframe tbody tr th {\n",
       "        vertical-align: top;\n",
       "    }\n",
       "\n",
       "    .dataframe thead th {\n",
       "        text-align: right;\n",
       "    }\n",
       "</style>\n",
       "<table border=\"1\" class=\"dataframe\">\n",
       "  <thead>\n",
       "    <tr style=\"text-align: right;\">\n",
       "      <th></th>\n",
       "      <th>dtype</th>\n",
       "      <th>nunique</th>\n",
       "      <th>total_count</th>\n",
       "      <th>null_count</th>\n",
       "      <th>percent_null</th>\n",
       "      <th>not_null_count</th>\n",
       "      <th>percent_not_null</th>\n",
       "    </tr>\n",
       "  </thead>\n",
       "  <tbody>\n",
       "    <tr>\n",
       "      <th>TimeAfterBootcamp</th>\n",
       "      <td>object</td>\n",
       "      <td>8</td>\n",
       "      <td>98855.0</td>\n",
       "      <td>92203</td>\n",
       "      <td>93.270952</td>\n",
       "      <td>6652.0</td>\n",
       "      <td>6.729048</td>\n",
       "    </tr>\n",
       "    <tr>\n",
       "      <th>MilitaryUS</th>\n",
       "      <td>object</td>\n",
       "      <td>2</td>\n",
       "      <td>98855.0</td>\n",
       "      <td>83074</td>\n",
       "      <td>84.036215</td>\n",
       "      <td>15781.0</td>\n",
       "      <td>15.963785</td>\n",
       "    </tr>\n",
       "    <tr>\n",
       "      <th>HackathonReasons</th>\n",
       "      <td>object</td>\n",
       "      <td>127</td>\n",
       "      <td>98855.0</td>\n",
       "      <td>73164</td>\n",
       "      <td>74.011431</td>\n",
       "      <td>25691.0</td>\n",
       "      <td>25.988569</td>\n",
       "    </tr>\n",
       "    <tr>\n",
       "      <th>ErgonomicDevices</th>\n",
       "      <td>object</td>\n",
       "      <td>15</td>\n",
       "      <td>98855.0</td>\n",
       "      <td>64797</td>\n",
       "      <td>65.547519</td>\n",
       "      <td>34058.0</td>\n",
       "      <td>34.452481</td>\n",
       "    </tr>\n",
       "    <tr>\n",
       "      <th>AdBlockerReasons</th>\n",
       "      <td>object</td>\n",
       "      <td>63</td>\n",
       "      <td>98855.0</td>\n",
       "      <td>61110</td>\n",
       "      <td>61.817814</td>\n",
       "      <td>37745.0</td>\n",
       "      <td>38.182186</td>\n",
       "    </tr>\n",
       "    <tr>\n",
       "      <th>StackOverflowJobsRecommend</th>\n",
       "      <td>object</td>\n",
       "      <td>11</td>\n",
       "      <td>98855.0</td>\n",
       "      <td>60538</td>\n",
       "      <td>61.239189</td>\n",
       "      <td>38317.0</td>\n",
       "      <td>38.760811</td>\n",
       "    </tr>\n",
       "    <tr>\n",
       "      <th>JobEmailPriorities3</th>\n",
       "      <td>float64</td>\n",
       "      <td>7</td>\n",
       "      <td>98855.0</td>\n",
       "      <td>52642</td>\n",
       "      <td>53.251732</td>\n",
       "      <td>46213.0</td>\n",
       "      <td>46.748268</td>\n",
       "    </tr>\n",
       "    <tr>\n",
       "      <th>JobEmailPriorities1</th>\n",
       "      <td>float64</td>\n",
       "      <td>7</td>\n",
       "      <td>98855.0</td>\n",
       "      <td>52642</td>\n",
       "      <td>53.251732</td>\n",
       "      <td>46213.0</td>\n",
       "      <td>46.748268</td>\n",
       "    </tr>\n",
       "    <tr>\n",
       "      <th>JobEmailPriorities2</th>\n",
       "      <td>float64</td>\n",
       "      <td>7</td>\n",
       "      <td>98855.0</td>\n",
       "      <td>52642</td>\n",
       "      <td>53.251732</td>\n",
       "      <td>46213.0</td>\n",
       "      <td>46.748268</td>\n",
       "    </tr>\n",
       "    <tr>\n",
       "      <th>JobEmailPriorities7</th>\n",
       "      <td>float64</td>\n",
       "      <td>7</td>\n",
       "      <td>98855.0</td>\n",
       "      <td>52642</td>\n",
       "      <td>53.251732</td>\n",
       "      <td>46213.0</td>\n",
       "      <td>46.748268</td>\n",
       "    </tr>\n",
       "    <tr>\n",
       "      <th>JobEmailPriorities6</th>\n",
       "      <td>float64</td>\n",
       "      <td>7</td>\n",
       "      <td>98855.0</td>\n",
       "      <td>52642</td>\n",
       "      <td>53.251732</td>\n",
       "      <td>46213.0</td>\n",
       "      <td>46.748268</td>\n",
       "    </tr>\n",
       "    <tr>\n",
       "      <th>JobEmailPriorities5</th>\n",
       "      <td>float64</td>\n",
       "      <td>7</td>\n",
       "      <td>98855.0</td>\n",
       "      <td>52642</td>\n",
       "      <td>53.251732</td>\n",
       "      <td>46213.0</td>\n",
       "      <td>46.748268</td>\n",
       "    </tr>\n",
       "    <tr>\n",
       "      <th>JobEmailPriorities4</th>\n",
       "      <td>float64</td>\n",
       "      <td>7</td>\n",
       "      <td>98855.0</td>\n",
       "      <td>52642</td>\n",
       "      <td>53.251732</td>\n",
       "      <td>46213.0</td>\n",
       "      <td>46.748268</td>\n",
       "    </tr>\n",
       "    <tr>\n",
       "      <th>ConvertedSalary</th>\n",
       "      <td>float64</td>\n",
       "      <td>7473</td>\n",
       "      <td>98855.0</td>\n",
       "      <td>51153</td>\n",
       "      <td>51.745486</td>\n",
       "      <td>47702.0</td>\n",
       "      <td>48.254514</td>\n",
       "    </tr>\n",
       "    <tr>\n",
       "      <th>JobContactPriorities4</th>\n",
       "      <td>float64</td>\n",
       "      <td>5</td>\n",
       "      <td>98855.0</td>\n",
       "      <td>50149</td>\n",
       "      <td>50.729857</td>\n",
       "      <td>48706.0</td>\n",
       "      <td>49.270143</td>\n",
       "    </tr>\n",
       "    <tr>\n",
       "      <th>JobContactPriorities5</th>\n",
       "      <td>float64</td>\n",
       "      <td>5</td>\n",
       "      <td>98855.0</td>\n",
       "      <td>50149</td>\n",
       "      <td>50.729857</td>\n",
       "      <td>48706.0</td>\n",
       "      <td>49.270143</td>\n",
       "    </tr>\n",
       "    <tr>\n",
       "      <th>JobContactPriorities3</th>\n",
       "      <td>float64</td>\n",
       "      <td>5</td>\n",
       "      <td>98855.0</td>\n",
       "      <td>50149</td>\n",
       "      <td>50.729857</td>\n",
       "      <td>48706.0</td>\n",
       "      <td>49.270143</td>\n",
       "    </tr>\n",
       "    <tr>\n",
       "      <th>JobContactPriorities1</th>\n",
       "      <td>float64</td>\n",
       "      <td>5</td>\n",
       "      <td>98855.0</td>\n",
       "      <td>50149</td>\n",
       "      <td>50.729857</td>\n",
       "      <td>48706.0</td>\n",
       "      <td>49.270143</td>\n",
       "    </tr>\n",
       "    <tr>\n",
       "      <th>JobContactPriorities2</th>\n",
       "      <td>float64</td>\n",
       "      <td>5</td>\n",
       "      <td>98855.0</td>\n",
       "      <td>50149</td>\n",
       "      <td>50.729857</td>\n",
       "      <td>48706.0</td>\n",
       "      <td>49.270143</td>\n",
       "    </tr>\n",
       "    <tr>\n",
       "      <th>Salary</th>\n",
       "      <td>object</td>\n",
       "      <td>3998</td>\n",
       "      <td>98855.0</td>\n",
       "      <td>48277</td>\n",
       "      <td>48.836174</td>\n",
       "      <td>50578.0</td>\n",
       "      <td>51.163826</td>\n",
       "    </tr>\n",
       "    <tr>\n",
       "      <th>SalaryType</th>\n",
       "      <td>object</td>\n",
       "      <td>3</td>\n",
       "      <td>98855.0</td>\n",
       "      <td>47785</td>\n",
       "      <td>48.338476</td>\n",
       "      <td>51070.0</td>\n",
       "      <td>51.661524</td>\n",
       "    </tr>\n",
       "    <tr>\n",
       "      <th>FrameworkWorkedWith</th>\n",
       "      <td>object</td>\n",
       "      <td>1014</td>\n",
       "      <td>98855.0</td>\n",
       "      <td>47235</td>\n",
       "      <td>47.782105</td>\n",
       "      <td>51620.0</td>\n",
       "      <td>52.217895</td>\n",
       "    </tr>\n",
       "    <tr>\n",
       "      <th>TimeFullyProductive</th>\n",
       "      <td>object</td>\n",
       "      <td>6</td>\n",
       "      <td>98855.0</td>\n",
       "      <td>46983</td>\n",
       "      <td>47.527186</td>\n",
       "      <td>51872.0</td>\n",
       "      <td>52.472814</td>\n",
       "    </tr>\n",
       "    <tr>\n",
       "      <th>AdBlockerDisable</th>\n",
       "      <td>object</td>\n",
       "      <td>3</td>\n",
       "      <td>98855.0</td>\n",
       "      <td>43957</td>\n",
       "      <td>44.466137</td>\n",
       "      <td>54898.0</td>\n",
       "      <td>55.533863</td>\n",
       "    </tr>\n",
       "    <tr>\n",
       "      <th>FrameworkDesireNextYear</th>\n",
       "      <td>object</td>\n",
       "      <td>1786</td>\n",
       "      <td>98855.0</td>\n",
       "      <td>43637</td>\n",
       "      <td>44.142431</td>\n",
       "      <td>55218.0</td>\n",
       "      <td>55.857569</td>\n",
       "    </tr>\n",
       "    <tr>\n",
       "      <th>CommunicationTools</th>\n",
       "      <td>object</td>\n",
       "      <td>1149</td>\n",
       "      <td>98855.0</td>\n",
       "      <td>41885</td>\n",
       "      <td>42.370138</td>\n",
       "      <td>56970.0</td>\n",
       "      <td>57.629862</td>\n",
       "    </tr>\n",
       "    <tr>\n",
       "      <th>SelfTaughtTypes</th>\n",
       "      <td>object</td>\n",
       "      <td>471</td>\n",
       "      <td>98855.0</td>\n",
       "      <td>41501</td>\n",
       "      <td>41.981690</td>\n",
       "      <td>57354.0</td>\n",
       "      <td>58.018310</td>\n",
       "    </tr>\n",
       "    <tr>\n",
       "      <th>RaceEthnicity</th>\n",
       "      <td>object</td>\n",
       "      <td>71</td>\n",
       "      <td>98855.0</td>\n",
       "      <td>41382</td>\n",
       "      <td>41.861312</td>\n",
       "      <td>57473.0</td>\n",
       "      <td>58.138688</td>\n",
       "    </tr>\n",
       "    <tr>\n",
       "      <th>DatabaseDesireNextYear</th>\n",
       "      <td>object</td>\n",
       "      <td>10028</td>\n",
       "      <td>98855.0</td>\n",
       "      <td>41357</td>\n",
       "      <td>41.836022</td>\n",
       "      <td>57498.0</td>\n",
       "      <td>58.163978</td>\n",
       "    </tr>\n",
       "    <tr>\n",
       "      <th>CurrencySymbol</th>\n",
       "      <td>object</td>\n",
       "      <td>112</td>\n",
       "      <td>98855.0</td>\n",
       "      <td>40205</td>\n",
       "      <td>40.670679</td>\n",
       "      <td>58650.0</td>\n",
       "      <td>59.329321</td>\n",
       "    </tr>\n",
       "    <tr>\n",
       "      <th>...</th>\n",
       "      <td>...</td>\n",
       "      <td>...</td>\n",
       "      <td>...</td>\n",
       "      <td>...</td>\n",
       "      <td>...</td>\n",
       "      <td>...</td>\n",
       "      <td>...</td>\n",
       "    </tr>\n",
       "    <tr>\n",
       "      <th>LanguageDesireNextYear</th>\n",
       "      <td>object</td>\n",
       "      <td>28657</td>\n",
       "      <td>98855.0</td>\n",
       "      <td>25611</td>\n",
       "      <td>25.907643</td>\n",
       "      <td>73244.0</td>\n",
       "      <td>74.092357</td>\n",
       "    </tr>\n",
       "    <tr>\n",
       "      <th>VersionControl</th>\n",
       "      <td>object</td>\n",
       "      <td>90</td>\n",
       "      <td>98855.0</td>\n",
       "      <td>24557</td>\n",
       "      <td>24.841434</td>\n",
       "      <td>74298.0</td>\n",
       "      <td>75.158566</td>\n",
       "    </tr>\n",
       "    <tr>\n",
       "      <th>AdsAgreeDisagree2</th>\n",
       "      <td>object</td>\n",
       "      <td>5</td>\n",
       "      <td>98855.0</td>\n",
       "      <td>24442</td>\n",
       "      <td>24.725102</td>\n",
       "      <td>74413.0</td>\n",
       "      <td>75.274898</td>\n",
       "    </tr>\n",
       "    <tr>\n",
       "      <th>AdsAgreeDisagree3</th>\n",
       "      <td>object</td>\n",
       "      <td>5</td>\n",
       "      <td>98855.0</td>\n",
       "      <td>24441</td>\n",
       "      <td>24.724091</td>\n",
       "      <td>74414.0</td>\n",
       "      <td>75.275909</td>\n",
       "    </tr>\n",
       "    <tr>\n",
       "      <th>AdsAgreeDisagree1</th>\n",
       "      <td>object</td>\n",
       "      <td>5</td>\n",
       "      <td>98855.0</td>\n",
       "      <td>24370</td>\n",
       "      <td>24.652268</td>\n",
       "      <td>74485.0</td>\n",
       "      <td>75.347732</td>\n",
       "    </tr>\n",
       "    <tr>\n",
       "      <th>StackOverflowJobs</th>\n",
       "      <td>object</td>\n",
       "      <td>3</td>\n",
       "      <td>98855.0</td>\n",
       "      <td>23558</td>\n",
       "      <td>23.830863</td>\n",
       "      <td>75297.0</td>\n",
       "      <td>76.169137</td>\n",
       "    </tr>\n",
       "    <tr>\n",
       "      <th>IDE</th>\n",
       "      <td>object</td>\n",
       "      <td>7884</td>\n",
       "      <td>98855.0</td>\n",
       "      <td>23457</td>\n",
       "      <td>23.728694</td>\n",
       "      <td>75398.0</td>\n",
       "      <td>76.271306</td>\n",
       "    </tr>\n",
       "    <tr>\n",
       "      <th>HopeFiveYears</th>\n",
       "      <td>object</td>\n",
       "      <td>7</td>\n",
       "      <td>98855.0</td>\n",
       "      <td>23137</td>\n",
       "      <td>23.404987</td>\n",
       "      <td>75718.0</td>\n",
       "      <td>76.595013</td>\n",
       "    </tr>\n",
       "    <tr>\n",
       "      <th>StackOverflowConsiderMember</th>\n",
       "      <td>object</td>\n",
       "      <td>3</td>\n",
       "      <td>98855.0</td>\n",
       "      <td>22848</td>\n",
       "      <td>23.112640</td>\n",
       "      <td>76007.0</td>\n",
       "      <td>76.887360</td>\n",
       "    </tr>\n",
       "    <tr>\n",
       "      <th>AdBlocker</th>\n",
       "      <td>object</td>\n",
       "      <td>3</td>\n",
       "      <td>98855.0</td>\n",
       "      <td>22800</td>\n",
       "      <td>23.064084</td>\n",
       "      <td>76055.0</td>\n",
       "      <td>76.935916</td>\n",
       "    </tr>\n",
       "    <tr>\n",
       "      <th>OperatingSystem</th>\n",
       "      <td>object</td>\n",
       "      <td>4</td>\n",
       "      <td>98855.0</td>\n",
       "      <td>22676</td>\n",
       "      <td>22.938648</td>\n",
       "      <td>76179.0</td>\n",
       "      <td>77.061352</td>\n",
       "    </tr>\n",
       "    <tr>\n",
       "      <th>NumberMonitors</th>\n",
       "      <td>object</td>\n",
       "      <td>5</td>\n",
       "      <td>98855.0</td>\n",
       "      <td>22457</td>\n",
       "      <td>22.717111</td>\n",
       "      <td>76398.0</td>\n",
       "      <td>77.282889</td>\n",
       "    </tr>\n",
       "    <tr>\n",
       "      <th>StackOverflowRecommend</th>\n",
       "      <td>object</td>\n",
       "      <td>11</td>\n",
       "      <td>98855.0</td>\n",
       "      <td>22366</td>\n",
       "      <td>22.625057</td>\n",
       "      <td>76489.0</td>\n",
       "      <td>77.374943</td>\n",
       "    </tr>\n",
       "    <tr>\n",
       "      <th>CareerSatisfaction</th>\n",
       "      <td>object</td>\n",
       "      <td>7</td>\n",
       "      <td>98855.0</td>\n",
       "      <td>22351</td>\n",
       "      <td>22.609883</td>\n",
       "      <td>76504.0</td>\n",
       "      <td>77.390117</td>\n",
       "    </tr>\n",
       "    <tr>\n",
       "      <th>StackOverflowHasAccount</th>\n",
       "      <td>object</td>\n",
       "      <td>3</td>\n",
       "      <td>98855.0</td>\n",
       "      <td>22064</td>\n",
       "      <td>22.319559</td>\n",
       "      <td>76791.0</td>\n",
       "      <td>77.680441</td>\n",
       "    </tr>\n",
       "    <tr>\n",
       "      <th>StackOverflowVisit</th>\n",
       "      <td>object</td>\n",
       "      <td>6</td>\n",
       "      <td>98855.0</td>\n",
       "      <td>22044</td>\n",
       "      <td>22.299327</td>\n",
       "      <td>76811.0</td>\n",
       "      <td>77.700673</td>\n",
       "    </tr>\n",
       "    <tr>\n",
       "      <th>YearsCodingProf</th>\n",
       "      <td>object</td>\n",
       "      <td>11</td>\n",
       "      <td>98855.0</td>\n",
       "      <td>20952</td>\n",
       "      <td>21.194679</td>\n",
       "      <td>77903.0</td>\n",
       "      <td>78.805321</td>\n",
       "    </tr>\n",
       "    <tr>\n",
       "      <th>LanguageWorkedWith</th>\n",
       "      <td>object</td>\n",
       "      <td>26678</td>\n",
       "      <td>98855.0</td>\n",
       "      <td>20521</td>\n",
       "      <td>20.758687</td>\n",
       "      <td>78334.0</td>\n",
       "      <td>79.241313</td>\n",
       "    </tr>\n",
       "    <tr>\n",
       "      <th>LastNewJob</th>\n",
       "      <td>object</td>\n",
       "      <td>5</td>\n",
       "      <td>98855.0</td>\n",
       "      <td>19966</td>\n",
       "      <td>20.197259</td>\n",
       "      <td>78889.0</td>\n",
       "      <td>79.802741</td>\n",
       "    </tr>\n",
       "    <tr>\n",
       "      <th>UndergradMajor</th>\n",
       "      <td>object</td>\n",
       "      <td>12</td>\n",
       "      <td>98855.0</td>\n",
       "      <td>19819</td>\n",
       "      <td>20.048556</td>\n",
       "      <td>79036.0</td>\n",
       "      <td>79.951444</td>\n",
       "    </tr>\n",
       "    <tr>\n",
       "      <th>JobSearchStatus</th>\n",
       "      <td>object</td>\n",
       "      <td>3</td>\n",
       "      <td>98855.0</td>\n",
       "      <td>19367</td>\n",
       "      <td>19.591321</td>\n",
       "      <td>79488.0</td>\n",
       "      <td>80.408679</td>\n",
       "    </tr>\n",
       "    <tr>\n",
       "      <th>DevType</th>\n",
       "      <td>object</td>\n",
       "      <td>9568</td>\n",
       "      <td>98855.0</td>\n",
       "      <td>6757</td>\n",
       "      <td>6.835264</td>\n",
       "      <td>92098.0</td>\n",
       "      <td>93.164736</td>\n",
       "    </tr>\n",
       "    <tr>\n",
       "      <th>YearsCoding</th>\n",
       "      <td>object</td>\n",
       "      <td>11</td>\n",
       "      <td>98855.0</td>\n",
       "      <td>5020</td>\n",
       "      <td>5.078145</td>\n",
       "      <td>93835.0</td>\n",
       "      <td>94.921855</td>\n",
       "    </tr>\n",
       "    <tr>\n",
       "      <th>FormalEducation</th>\n",
       "      <td>object</td>\n",
       "      <td>9</td>\n",
       "      <td>98855.0</td>\n",
       "      <td>4152</td>\n",
       "      <td>4.200091</td>\n",
       "      <td>94703.0</td>\n",
       "      <td>95.799909</td>\n",
       "    </tr>\n",
       "    <tr>\n",
       "      <th>Student</th>\n",
       "      <td>object</td>\n",
       "      <td>3</td>\n",
       "      <td>98855.0</td>\n",
       "      <td>3954</td>\n",
       "      <td>3.999798</td>\n",
       "      <td>94901.0</td>\n",
       "      <td>96.000202</td>\n",
       "    </tr>\n",
       "    <tr>\n",
       "      <th>Employment</th>\n",
       "      <td>object</td>\n",
       "      <td>6</td>\n",
       "      <td>98855.0</td>\n",
       "      <td>3534</td>\n",
       "      <td>3.574933</td>\n",
       "      <td>95321.0</td>\n",
       "      <td>96.425067</td>\n",
       "    </tr>\n",
       "    <tr>\n",
       "      <th>Country</th>\n",
       "      <td>object</td>\n",
       "      <td>183</td>\n",
       "      <td>98855.0</td>\n",
       "      <td>412</td>\n",
       "      <td>0.416772</td>\n",
       "      <td>98443.0</td>\n",
       "      <td>99.583228</td>\n",
       "    </tr>\n",
       "    <tr>\n",
       "      <th>Hobby</th>\n",
       "      <td>object</td>\n",
       "      <td>2</td>\n",
       "      <td>98855.0</td>\n",
       "      <td>0</td>\n",
       "      <td>0.000000</td>\n",
       "      <td>98855.0</td>\n",
       "      <td>100.000000</td>\n",
       "    </tr>\n",
       "    <tr>\n",
       "      <th>OpenSource</th>\n",
       "      <td>object</td>\n",
       "      <td>2</td>\n",
       "      <td>98855.0</td>\n",
       "      <td>0</td>\n",
       "      <td>0.000000</td>\n",
       "      <td>98855.0</td>\n",
       "      <td>100.000000</td>\n",
       "    </tr>\n",
       "    <tr>\n",
       "      <th>Respondent</th>\n",
       "      <td>int64</td>\n",
       "      <td>98855</td>\n",
       "      <td>98855.0</td>\n",
       "      <td>0</td>\n",
       "      <td>0.000000</td>\n",
       "      <td>98855.0</td>\n",
       "      <td>100.000000</td>\n",
       "    </tr>\n",
       "  </tbody>\n",
       "</table>\n",
       "<p>129 rows × 7 columns</p>\n",
       "</div>"
      ],
      "text/plain": [
       "                               dtype  nunique  total_count  null_count  \\\n",
       "TimeAfterBootcamp             object        8      98855.0       92203   \n",
       "MilitaryUS                    object        2      98855.0       83074   \n",
       "HackathonReasons              object      127      98855.0       73164   \n",
       "ErgonomicDevices              object       15      98855.0       64797   \n",
       "AdBlockerReasons              object       63      98855.0       61110   \n",
       "StackOverflowJobsRecommend    object       11      98855.0       60538   \n",
       "JobEmailPriorities3          float64        7      98855.0       52642   \n",
       "JobEmailPriorities1          float64        7      98855.0       52642   \n",
       "JobEmailPriorities2          float64        7      98855.0       52642   \n",
       "JobEmailPriorities7          float64        7      98855.0       52642   \n",
       "JobEmailPriorities6          float64        7      98855.0       52642   \n",
       "JobEmailPriorities5          float64        7      98855.0       52642   \n",
       "JobEmailPriorities4          float64        7      98855.0       52642   \n",
       "ConvertedSalary              float64     7473      98855.0       51153   \n",
       "JobContactPriorities4        float64        5      98855.0       50149   \n",
       "JobContactPriorities5        float64        5      98855.0       50149   \n",
       "JobContactPriorities3        float64        5      98855.0       50149   \n",
       "JobContactPriorities1        float64        5      98855.0       50149   \n",
       "JobContactPriorities2        float64        5      98855.0       50149   \n",
       "Salary                        object     3998      98855.0       48277   \n",
       "SalaryType                    object        3      98855.0       47785   \n",
       "FrameworkWorkedWith           object     1014      98855.0       47235   \n",
       "TimeFullyProductive           object        6      98855.0       46983   \n",
       "AdBlockerDisable              object        3      98855.0       43957   \n",
       "FrameworkDesireNextYear       object     1786      98855.0       43637   \n",
       "CommunicationTools            object     1149      98855.0       41885   \n",
       "SelfTaughtTypes               object      471      98855.0       41501   \n",
       "RaceEthnicity                 object       71      98855.0       41382   \n",
       "DatabaseDesireNextYear        object    10028      98855.0       41357   \n",
       "CurrencySymbol                object      112      98855.0       40205   \n",
       "...                              ...      ...          ...         ...   \n",
       "LanguageDesireNextYear        object    28657      98855.0       25611   \n",
       "VersionControl                object       90      98855.0       24557   \n",
       "AdsAgreeDisagree2             object        5      98855.0       24442   \n",
       "AdsAgreeDisagree3             object        5      98855.0       24441   \n",
       "AdsAgreeDisagree1             object        5      98855.0       24370   \n",
       "StackOverflowJobs             object        3      98855.0       23558   \n",
       "IDE                           object     7884      98855.0       23457   \n",
       "HopeFiveYears                 object        7      98855.0       23137   \n",
       "StackOverflowConsiderMember   object        3      98855.0       22848   \n",
       "AdBlocker                     object        3      98855.0       22800   \n",
       "OperatingSystem               object        4      98855.0       22676   \n",
       "NumberMonitors                object        5      98855.0       22457   \n",
       "StackOverflowRecommend        object       11      98855.0       22366   \n",
       "CareerSatisfaction            object        7      98855.0       22351   \n",
       "StackOverflowHasAccount       object        3      98855.0       22064   \n",
       "StackOverflowVisit            object        6      98855.0       22044   \n",
       "YearsCodingProf               object       11      98855.0       20952   \n",
       "LanguageWorkedWith            object    26678      98855.0       20521   \n",
       "LastNewJob                    object        5      98855.0       19966   \n",
       "UndergradMajor                object       12      98855.0       19819   \n",
       "JobSearchStatus               object        3      98855.0       19367   \n",
       "DevType                       object     9568      98855.0        6757   \n",
       "YearsCoding                   object       11      98855.0        5020   \n",
       "FormalEducation               object        9      98855.0        4152   \n",
       "Student                       object        3      98855.0        3954   \n",
       "Employment                    object        6      98855.0        3534   \n",
       "Country                       object      183      98855.0         412   \n",
       "Hobby                         object        2      98855.0           0   \n",
       "OpenSource                    object        2      98855.0           0   \n",
       "Respondent                     int64    98855      98855.0           0   \n",
       "\n",
       "                             percent_null  not_null_count  percent_not_null  \n",
       "TimeAfterBootcamp               93.270952          6652.0          6.729048  \n",
       "MilitaryUS                      84.036215         15781.0         15.963785  \n",
       "HackathonReasons                74.011431         25691.0         25.988569  \n",
       "ErgonomicDevices                65.547519         34058.0         34.452481  \n",
       "AdBlockerReasons                61.817814         37745.0         38.182186  \n",
       "StackOverflowJobsRecommend      61.239189         38317.0         38.760811  \n",
       "JobEmailPriorities3             53.251732         46213.0         46.748268  \n",
       "JobEmailPriorities1             53.251732         46213.0         46.748268  \n",
       "JobEmailPriorities2             53.251732         46213.0         46.748268  \n",
       "JobEmailPriorities7             53.251732         46213.0         46.748268  \n",
       "JobEmailPriorities6             53.251732         46213.0         46.748268  \n",
       "JobEmailPriorities5             53.251732         46213.0         46.748268  \n",
       "JobEmailPriorities4             53.251732         46213.0         46.748268  \n",
       "ConvertedSalary                 51.745486         47702.0         48.254514  \n",
       "JobContactPriorities4           50.729857         48706.0         49.270143  \n",
       "JobContactPriorities5           50.729857         48706.0         49.270143  \n",
       "JobContactPriorities3           50.729857         48706.0         49.270143  \n",
       "JobContactPriorities1           50.729857         48706.0         49.270143  \n",
       "JobContactPriorities2           50.729857         48706.0         49.270143  \n",
       "Salary                          48.836174         50578.0         51.163826  \n",
       "SalaryType                      48.338476         51070.0         51.661524  \n",
       "FrameworkWorkedWith             47.782105         51620.0         52.217895  \n",
       "TimeFullyProductive             47.527186         51872.0         52.472814  \n",
       "AdBlockerDisable                44.466137         54898.0         55.533863  \n",
       "FrameworkDesireNextYear         44.142431         55218.0         55.857569  \n",
       "CommunicationTools              42.370138         56970.0         57.629862  \n",
       "SelfTaughtTypes                 41.981690         57354.0         58.018310  \n",
       "RaceEthnicity                   41.861312         57473.0         58.138688  \n",
       "DatabaseDesireNextYear          41.836022         57498.0         58.163978  \n",
       "CurrencySymbol                  40.670679         58650.0         59.329321  \n",
       "...                                   ...             ...               ...  \n",
       "LanguageDesireNextYear          25.907643         73244.0         74.092357  \n",
       "VersionControl                  24.841434         74298.0         75.158566  \n",
       "AdsAgreeDisagree2               24.725102         74413.0         75.274898  \n",
       "AdsAgreeDisagree3               24.724091         74414.0         75.275909  \n",
       "AdsAgreeDisagree1               24.652268         74485.0         75.347732  \n",
       "StackOverflowJobs               23.830863         75297.0         76.169137  \n",
       "IDE                             23.728694         75398.0         76.271306  \n",
       "HopeFiveYears                   23.404987         75718.0         76.595013  \n",
       "StackOverflowConsiderMember     23.112640         76007.0         76.887360  \n",
       "AdBlocker                       23.064084         76055.0         76.935916  \n",
       "OperatingSystem                 22.938648         76179.0         77.061352  \n",
       "NumberMonitors                  22.717111         76398.0         77.282889  \n",
       "StackOverflowRecommend          22.625057         76489.0         77.374943  \n",
       "CareerSatisfaction              22.609883         76504.0         77.390117  \n",
       "StackOverflowHasAccount         22.319559         76791.0         77.680441  \n",
       "StackOverflowVisit              22.299327         76811.0         77.700673  \n",
       "YearsCodingProf                 21.194679         77903.0         78.805321  \n",
       "LanguageWorkedWith              20.758687         78334.0         79.241313  \n",
       "LastNewJob                      20.197259         78889.0         79.802741  \n",
       "UndergradMajor                  20.048556         79036.0         79.951444  \n",
       "JobSearchStatus                 19.591321         79488.0         80.408679  \n",
       "DevType                          6.835264         92098.0         93.164736  \n",
       "YearsCoding                      5.078145         93835.0         94.921855  \n",
       "FormalEducation                  4.200091         94703.0         95.799909  \n",
       "Student                          3.999798         94901.0         96.000202  \n",
       "Employment                       3.574933         95321.0         96.425067  \n",
       "Country                          0.416772         98443.0         99.583228  \n",
       "Hobby                            0.000000         98855.0        100.000000  \n",
       "OpenSource                       0.000000         98855.0        100.000000  \n",
       "Respondent                       0.000000         98855.0        100.000000  \n",
       "\n",
       "[129 rows x 7 columns]"
      ]
     },
     "execution_count": 6,
     "metadata": {},
     "output_type": "execute_result"
    }
   ],
   "source": [
    "columns_metadata = get_columns_metadata(survey_data)\n",
    "columns_metadata.sort_values(by='percent_null',ascending=False)"
   ]
  },
  {
   "cell_type": "markdown",
   "metadata": {},
   "source": [
    "As per the metadata above, there seems to be a lot of missing data in the dataset. Only 9 out of the 129 columns in the dataset have more than 90% of their data. The other columns are missing a lot. This essentially means that we will have to consider truncating the rows that have a high number of missing data in order to get the good chunk of data that we can analyze."
   ]
  },
  {
   "cell_type": "markdown",
   "metadata": {},
   "source": [
    "Another thing to note here is the abundance of columns in the dataset that have +100 unique values while being of type object. if these are categorical columns, they shouldn't have that many unique values. Let's peek into them to see what's going on."
   ]
  },
  {
   "cell_type": "code",
   "execution_count": 7,
   "metadata": {},
   "outputs": [
    {
     "data": {
      "text/plain": [
       "array(['Full-stack developer',\n",
       "       'Database administrator;DevOps specialist;Full-stack developer;System administrator',\n",
       "       'Engineering manager;Full-stack developer', ...,\n",
       "       'Back-end developer;Data or business analyst;Data scientist or machine learning specialist;Database administrator;Designer;Desktop or enterprise applications developer;Front-end developer;Mobile developer;Student;System administrator',\n",
       "       'Back-end developer;Designer;Embedded applications or devices developer;Front-end developer;Game or graphics developer',\n",
       "       'C-suite executive (CEO, CTO, etc.);Designer;Front-end developer;Product manager'],\n",
       "      dtype=object)"
      ]
     },
     "execution_count": 7,
     "metadata": {},
     "output_type": "execute_result"
    }
   ],
   "source": [
    "survey_data['DevType'].unique()"
   ]
  },
  {
   "cell_type": "markdown",
   "metadata": {},
   "source": [
    "As shown above, these object type columns contain semicolon seperated values in the form of tags. We can assume each of these tags to be its own categorical feature. This will require a custom function to parse these tags and build the required columns accordingly."
   ]
  },
  {
   "cell_type": "markdown",
   "metadata": {},
   "source": [
    "-----------------------------------------\n",
    "# 3 - Data Preparation"
   ]
  },
  {
   "cell_type": "markdown",
   "metadata": {},
   "source": [
    "## 3.1 - Mapping Country Column across the three datasets and merging them into one dataset"
   ]
  },
  {
   "cell_type": "markdown",
   "metadata": {},
   "source": [
    "Since the data from the StackOverflow survey has a Country column filled with strings of non-standard country names, we certainly cannot just match it to the World Bank datasets for Population and GDP per Capita. Accordingly, I made a custom mapping in order to Unify the country names such that we can later join them and analyze them with ease.\n",
    "\n",
    "With that in mind, certainly, some of survey data will be lost as one country might be shown in the survey while it lacks data in the World Bank dataset, and vice versa. This reduction in the dataset should not concerning due to the fact that these missing countries are not significant in the datasets; this is actually way they are missing in the first place."
   ]
  },
  {
   "cell_type": "code",
   "execution_count": 8,
   "metadata": {},
   "outputs": [],
   "source": [
    "def drop_rows_with_missing_values(dataset,cols):\n",
    "    count_rows_dropped = 0\n",
    "    original_size = len(dataset)\n",
    "    for col in cols:\n",
    "        count_rows_dropped+=dataset[col].isna().sum()\n",
    "        dataset = dataset[~dataset[col].isna()]\n",
    "    dropped_percent = count_rows_dropped/original_size*100\n",
    "    \n",
    "    metadata = {\n",
    "        'original_size':original_size,\n",
    "        'count_rows_dropped':count_rows_dropped,\n",
    "        'new_size':len(dataset),\n",
    "        'dropped_percent':dropped_percent\n",
    "    }\n",
    "    return dataset,metadata"
   ]
  },
  {
   "cell_type": "code",
   "execution_count": 9,
   "metadata": {},
   "outputs": [],
   "source": [
    "country_mapping = pd.read_csv(\"./Country_Names_map.csv\")"
   ]
  },
  {
   "cell_type": "code",
   "execution_count": 10,
   "metadata": {},
   "outputs": [],
   "source": [
    "# mapping survey data to a new country column and dropping the old column\n",
    "\n",
    "survey_data_country_mapped = pd.merge(survey_data,country_mapping, how='left', left_on='Country', right_on='Country')\n",
    "survey_data_country_mapped = survey_data_country_mapped.drop(['Country'],axis=1)\n",
    "survey_data_country_mapped['Country'] = survey_data_country_mapped['Country_Target']\n",
    "survey_data_country_mapped = survey_data_country_mapped.drop(['Country_Target'],axis=1)\n",
    "survey_data = survey_data_country_mapped"
   ]
  },
  {
   "cell_type": "code",
   "execution_count": 11,
   "metadata": {},
   "outputs": [],
   "source": [
    "# Mapping population data to the new country column and dropping the old column\n",
    "# Also dropping countries that are not available in the standard mapping\n",
    "\n",
    "population_data_country_mapped = pd.merge(population_data,country_mapping, how='left', left_on='Country Name', right_on='Country')\n",
    "population_data_country_mapped = population_data_country_mapped.drop(['Country Name','Country'],axis=1)\n",
    "population_data_country_mapped['Country'] = population_data_country_mapped['Country_Target']\n",
    "population_data_country_mapped = population_data_country_mapped.drop(['Country_Target'],axis=1)\n",
    "population_data_country_mapped,metadata_drop = drop_rows_with_missing_values(population_data_country_mapped,['Country','2018'])\n",
    "population_data = population_data_country_mapped"
   ]
  },
  {
   "cell_type": "code",
   "execution_count": 12,
   "metadata": {},
   "outputs": [],
   "source": [
    "# Mapping GDP per Capita data to the new country column and dropping the old column\n",
    "# Also dropping countries that are not available in the standard mapping\n",
    "\n",
    "gdp_per_captia_data_country_mapped = pd.merge(gdp_per_captia_data,country_mapping, how='left', left_on='Country Name', right_on='Country')\n",
    "gdp_per_captia_data_country_mapped = gdp_per_captia_data_country_mapped.drop(['Country Name','Country'],axis=1)\n",
    "gdp_per_captia_data_country_mapped['Country'] = gdp_per_captia_data_country_mapped['Country_Target']\n",
    "gdp_per_captia_data_country_mapped = gdp_per_captia_data_country_mapped.drop(['Country_Target'],axis=1)\n",
    "gdp_per_captia_data_country_mapped,metadata_drop = drop_rows_with_missing_values(gdp_per_captia_data_country_mapped,['Country','2018'])\n",
    "gdp_per_captia_data = gdp_per_captia_data_country_mapped"
   ]
  },
  {
   "cell_type": "code",
   "execution_count": 13,
   "metadata": {},
   "outputs": [],
   "source": [
    "# We are interested in 2018 population data, we should ignore the rest\n",
    "population_data = population_data.loc[:,['Country','2018']]\n",
    "\n",
    "# Renaming the columns to cleaner names\n",
    "population_data.columns = ['Country','Population_2018']"
   ]
  },
  {
   "cell_type": "code",
   "execution_count": 14,
   "metadata": {},
   "outputs": [],
   "source": [
    "# We are interested in 2018 GDP per Capita data, we should ignore the rest\n",
    "gdp_per_captia_data = gdp_per_captia_data.loc[:,['Country','2018']]\n",
    "\n",
    "# Renaming the columns to cleaner names\n",
    "gdp_per_captia_data.columns = ['Country','GDP_per_Capita_2018']"
   ]
  },
  {
   "cell_type": "code",
   "execution_count": 15,
   "metadata": {},
   "outputs": [],
   "source": [
    "# joining the datasets on Country column. This new dataset will be the dataset on which analysis will take place\n",
    "survey_data_extended1 = pd.merge(survey_data,population_data, how='left', left_on='Country', right_on='Country')\n",
    "survey_data_extended2 = pd.merge(survey_data_extended1,gdp_per_captia_data, how='left', left_on='Country', right_on='Country')\n",
    "survey_data = survey_data_extended2"
   ]
  },
  {
   "cell_type": "markdown",
   "metadata": {},
   "source": [
    "-------------------------"
   ]
  },
  {
   "cell_type": "markdown",
   "metadata": {},
   "source": [
    "## 3.2 - Data Preparation"
   ]
  },
  {
   "cell_type": "markdown",
   "metadata": {},
   "source": [
    "### 3.2.1 - Prepare data for Question 1\n",
    "- Question 1: Assuming that Stackoverflow users are representative of the whole world population, Are there any contries over-represented or under-represented in the programmers dataset?"
   ]
  },
  {
   "cell_type": "code",
   "execution_count": 16,
   "metadata": {},
   "outputs": [],
   "source": [
    "'''\n",
    "Since respondents who did not specify a country of origin cannot be used in the analysis, we will have\n",
    "to drop their responses from our dataset.\n",
    "'''\n",
    "Q1_dataset,Q1_metadata = drop_rows_with_missing_values(survey_data[['Country','Population_2018']],['Country'])"
   ]
  },
  {
   "cell_type": "code",
   "execution_count": 17,
   "metadata": {},
   "outputs": [
    {
     "data": {
      "text/plain": [
       "0.7698143745890446"
      ]
     },
     "execution_count": 17,
     "metadata": {},
     "output_type": "execute_result"
    }
   ],
   "source": [
    "Q1_metadata['dropped_percent']"
   ]
  },
  {
   "cell_type": "markdown",
   "metadata": {},
   "source": [
    "Thankfully, more than 99.2% of the values in this column are actually available. Hence, Row-Wise truncation will be sufficient to prepare the data for this question.\n",
    "\n",
    "Q1 dataset is now ready for analysis."
   ]
  },
  {
   "cell_type": "markdown",
   "metadata": {},
   "source": [
    "## 3.2 - Prepare data for Question 2\n",
    "- Question 2: What is the gender representation in the workforce per country?"
   ]
  },
  {
   "cell_type": "code",
   "execution_count": 18,
   "metadata": {},
   "outputs": [
    {
     "data": {
      "text/plain": [
       "34.784280006069494"
      ]
     },
     "execution_count": 18,
     "metadata": {},
     "output_type": "execute_result"
    }
   ],
   "source": [
    "columns_metadata.loc['Gender','percent_null']"
   ]
  },
  {
   "cell_type": "markdown",
   "metadata": {},
   "source": [
    "Oops .. 34% of the gender data is missing in our dataset. Since there is not logical way to impute these missing values. We should just drop them while making the assumption that the remaining values are still representative of the gender distributions across countries."
   ]
  },
  {
   "cell_type": "code",
   "execution_count": 19,
   "metadata": {},
   "outputs": [],
   "source": [
    "Q2_dataset,Q2_metadata = drop_rows_with_missing_values(survey_data[['Country','Gender']],['Country','Gender'])"
   ]
  },
  {
   "cell_type": "code",
   "execution_count": 20,
   "metadata": {},
   "outputs": [
    {
     "data": {
      "text/plain": [
       "34.97243437357746"
      ]
     },
     "execution_count": 20,
     "metadata": {},
     "output_type": "execute_result"
    }
   ],
   "source": [
    "Q2_metadata['dropped_percent']"
   ]
  },
  {
   "cell_type": "markdown",
   "metadata": {},
   "source": [
    "A more advanced way of handling these missing values is to use Model-Based imputation where all of the other columns in the dataset are used in a predictive model to try and predict the missing values for the Gender variable. Despite this being a very valid option, I will choose not to do it just to keep this exercise simple."
   ]
  },
  {
   "cell_type": "markdown",
   "metadata": {},
   "source": [
    "Before we march in with data analysis, let's take a look at the different values the gender column might have."
   ]
  },
  {
   "cell_type": "code",
   "execution_count": 21,
   "metadata": {},
   "outputs": [],
   "source": [
    "def summarize_categorical_column(dataset,summarize_column,split_values,group_by_column,show_others=True,show_nan=True):\n",
    "    total_count_by_group = dataset.groupby([group_by_column])[group_by_column,summarize_column].size()\n",
    "    result = pd.DataFrame(total_count_by_group)\n",
    "    result.columns = ['Total_Count']\n",
    "    \n",
    "    for val in split_values:\n",
    "        temp = dataset[dataset[summarize_column]==val].groupby([group_by_column]).size()\n",
    "        result[val] = temp\n",
    "    if show_others:\n",
    "        temp = dataset[~dataset[summarize_column].isin(split_values)&~dataset[summarize_column].isna()].groupby([group_by_column]).size()\n",
    "        result['Others'] = temp\n",
    "    if show_nan:\n",
    "        temp = dataset[dataset[summarize_column].isna()].groupby([group_by_column]).size()\n",
    "        result['NaN'] = temp\n",
    "    result = result.fillna(0)\n",
    "    \n",
    "    return result\n"
   ]
  },
  {
   "cell_type": "code",
   "execution_count": 22,
   "metadata": {},
   "outputs": [
    {
     "data": {
      "text/plain": [
       "Male      92.246784\n",
       "Female     6.228707\n",
       "Others     1.524509\n",
       "dtype: float64"
      ]
     },
     "execution_count": 22,
     "metadata": {},
     "output_type": "execute_result"
    }
   ],
   "source": [
    "gender_counts = summarize_categorical_column(survey_data,'Gender',['Male','Female'],\"Country\",True,False)[['Male','Female','Others']].sum()\n",
    "gender_counts/gender_counts.sum()*100"
   ]
  },
  {
   "cell_type": "code",
   "execution_count": 23,
   "metadata": {},
   "outputs": [
    {
     "data": {
      "text/plain": [
       "15"
      ]
     },
     "execution_count": 23,
     "metadata": {},
     "output_type": "execute_result"
    }
   ],
   "source": [
    "survey_data.nunique()['Gender']"
   ]
  },
  {
   "cell_type": "code",
   "execution_count": 24,
   "metadata": {},
   "outputs": [
    {
     "data": {
      "text/plain": [
       "array(['Male', nan, 'Female',\n",
       "       'Female;Male;Transgender;Non-binary, genderqueer, or gender non-conforming',\n",
       "       'Female;Male',\n",
       "       'Male;Non-binary, genderqueer, or gender non-conforming',\n",
       "       'Non-binary, genderqueer, or gender non-conforming', 'Transgender',\n",
       "       'Female;Transgender',\n",
       "       'Transgender;Non-binary, genderqueer, or gender non-conforming',\n",
       "       'Female;Non-binary, genderqueer, or gender non-conforming',\n",
       "       'Female;Transgender;Non-binary, genderqueer, or gender non-conforming',\n",
       "       'Male;Transgender', 'Female;Male;Transgender',\n",
       "       'Female;Male;Non-binary, genderqueer, or gender non-conforming',\n",
       "       'Male;Transgender;Non-binary, genderqueer, or gender non-conforming'],\n",
       "      dtype=object)"
      ]
     },
     "execution_count": 24,
     "metadata": {},
     "output_type": "execute_result"
    }
   ],
   "source": [
    "survey_data['Gender'].unique()"
   ]
  },
  {
   "cell_type": "markdown",
   "metadata": {},
   "source": [
    "As shown above, only 1.5% of the available data is for gender types other than Male and Female. Since these Other types (additional 13) will further fractunate the 1.5% to smaller numbers, it's reasonable to exclude them from the analysis."
   ]
  },
  {
   "cell_type": "markdown",
   "metadata": {},
   "source": [
    "Q2 dataset is now ready for analysis."
   ]
  },
  {
   "cell_type": "markdown",
   "metadata": {},
   "source": [
    "## 3.3 - Prepare data for Question 3\n",
    "- Question 3: What are the most infulencial dimensions in predicting an individuals income?"
   ]
  },
  {
   "cell_type": "markdown",
   "metadata": {},
   "source": [
    "To answer this question, we need to build a full predictive model that uses whatever data we have in order to predict the respondents' income. However, before we jump to building the predictive model, we need to clean our data first."
   ]
  },
  {
   "cell_type": "markdown",
   "metadata": {},
   "source": [
    "### 3.3.1 - Dropping rows missing target column"
   ]
  },
  {
   "cell_type": "markdown",
   "metadata": {},
   "source": [
    "In order for us to build a predictive model on the ConvertedSalary field, we need to have this field available in our dataset for the surpervised training to work. Accordinly, we must drop all rows with the ConvertedSalary value missing."
   ]
  },
  {
   "cell_type": "code",
   "execution_count": 25,
   "metadata": {},
   "outputs": [],
   "source": [
    "Q3_dataset,Q3_metadata = drop_rows_with_missing_values(survey_data,['ConvertedSalary'])"
   ]
  },
  {
   "cell_type": "code",
   "execution_count": 26,
   "metadata": {},
   "outputs": [
    {
     "data": {
      "text/plain": [
       "51.74548581255374"
      ]
     },
     "execution_count": 26,
     "metadata": {},
     "output_type": "execute_result"
    }
   ],
   "source": [
    "Q3_metadata['dropped_percent']"
   ]
  },
  {
   "cell_type": "markdown",
   "metadata": {},
   "source": [
    "Clearly, this is a substantial part of our dataset. However, we cannot impute the missing values with mean, median, or mod values as such imputation will skew the data and give us biased results. We can, however, after building our predictive model for the ConvertedSalary field, we can use this model to predict proper imputations for the missing values if we need to do further analysis on the dataset."
   ]
  },
  {
   "cell_type": "markdown",
   "metadata": {},
   "source": [
    "There are other fields in our dataset that are not supposed to be passed to the predictive model training routine. For example, the Salary field is nothing but another value for a respondent's income. Accordinly, it should be dropped."
   ]
  },
  {
   "cell_type": "code",
   "execution_count": 27,
   "metadata": {},
   "outputs": [],
   "source": [
    "Q3_dataset = Q3_dataset.drop(['Salary','Respondent'],axis=1)"
   ]
  },
  {
   "cell_type": "markdown",
   "metadata": {},
   "source": [
    "### 3.3.2 - Dropping outlier rows and columns"
   ]
  },
  {
   "cell_type": "markdown",
   "metadata": {},
   "source": [
    "As we are going to pass our data to a model that does not expect nan values, we need to trim our data such that the number of missing values for the columns and the rows is minimized. Once that takes place, we can then impute the remaining rows and columns before passing the data to the predictive model."
   ]
  },
  {
   "cell_type": "code",
   "execution_count": 28,
   "metadata": {},
   "outputs": [],
   "source": [
    "columns_missing_data = get_columns_metadata(Q3_dataset).sort_values(by=\"percent_null\",ascending=False)['percent_null']"
   ]
  },
  {
   "cell_type": "code",
   "execution_count": 29,
   "metadata": {},
   "outputs": [],
   "source": [
    "import matplotlib.pyplot as plt\n",
    "\n",
    "def plot_missing_data_distribution(missing_values_series,data_type):\n",
    "    %matplotlib inline\n",
    "    fig = plt.figure(figsize=(10,5))\n",
    "    plt.hist(missing_values_series.values,100)\n",
    "    plt.ylabel(\"Number of \"+data_type);\n",
    "    plt.xlabel(\"Percentage of NaN Values\");\n",
    "    plt.xticks(np.arange(0, 101, step=5),rotation='vertical',fontsize=10)\n",
    "    plt.grid();"
   ]
  },
  {
   "cell_type": "code",
   "execution_count": 30,
   "metadata": {},
   "outputs": [
    {
     "data": {
      "image/png": "[encoded data removed]",
      "text/plain": [
       "<Figure size 720x360 with 1 Axes>"
      ]
     },
     "metadata": {
      "needs_background": "light"
     },
     "output_type": "display_data"
    }
   ],
   "source": [
    "# Investigate patterns in the amount of missing data in each column.\n",
    "plot_missing_data_distribution(columns_missing_data,data_type=\"columns\")"
   ]
  },
  {
   "cell_type": "markdown",
   "metadata": {},
   "source": [
    "Clearly, most of our columns lay below the 35% missing data threshold. Only 6 columns are outliers as they ar missing 43% of their data or more. Therefore, we will all columns missing more that 35% of their data."
   ]
  },
  {
   "cell_type": "code",
   "execution_count": 31,
   "metadata": {},
   "outputs": [],
   "source": [
    "columns_missing_a_little = columns_missing_data[columns_missing_data<=35]\n",
    "columns_missing_a_lot = columns_missing_data[columns_missing_data>35]"
   ]
  },
  {
   "cell_type": "code",
   "execution_count": 32,
   "metadata": {},
   "outputs": [
    {
     "name": "stdout",
     "output_type": "stream",
     "text": [
      "123 (95.34883720930233%) columns are missing less than or equal to 35% of their data\n",
      "6 (4.651162790697675%) columns are missing more than 35% of their data\n"
     ]
    }
   ],
   "source": [
    "print(f\"{columns_missing_a_little.shape[0]} ({columns_missing_a_little.shape[0]/Q3_dataset.shape[1]*100}%) columns are missing less than or equal to 35% of their data\")\n",
    "print(f\"{columns_missing_a_lot.shape[0]} ({columns_missing_a_lot.shape[0]/Q3_dataset.shape[1]*100}%) columns are missing more than 35% of their data\")"
   ]
  },
  {
   "cell_type": "code",
   "execution_count": 33,
   "metadata": {},
   "outputs": [],
   "source": [
    "Q3_dataset = Q3_dataset.drop(columns_missing_a_lot.index.values,axis=1)"
   ]
  },
  {
   "cell_type": "markdown",
   "metadata": {},
   "source": [
    "After dropping outlier columns, it's time now to drop outlier rows.\n",
    "Let's look at the distribution of rows missing data."
   ]
  },
  {
   "cell_type": "code",
   "execution_count": 34,
   "metadata": {},
   "outputs": [],
   "source": [
    "def get_rows_missing_values_summary(dataset):\n",
    "    result = dataset.isna().sum(axis=1)/dataset.shape[1]*100\n",
    "    result = result.sort_values(ascending=False)\n",
    "    return result"
   ]
  },
  {
   "cell_type": "code",
   "execution_count": 35,
   "metadata": {},
   "outputs": [],
   "source": [
    "rows_missing_data = get_rows_missing_values_summary(Q3_dataset)"
   ]
  },
  {
   "cell_type": "code",
   "execution_count": 36,
   "metadata": {},
   "outputs": [
    {
     "data": {
      "image/png": "[encoded data removed]",
      "text/plain": [
       "<Figure size 720x360 with 1 Axes>"
      ]
     },
     "metadata": {
      "needs_background": "light"
     },
     "output_type": "display_data"
    }
   ],
   "source": [
    "plot_missing_data_distribution(rows_missing_data,data_type=\"rows\")"
   ]
  },
  {
   "cell_type": "markdown",
   "metadata": {},
   "source": [
    "As shown in the distribution plot, the 20% mark is perfect spot to trim the data. Any rows missing more than 20% of their data should be considered ourliers, and should be dropped."
   ]
  },
  {
   "cell_type": "code",
   "execution_count": 37,
   "metadata": {},
   "outputs": [],
   "source": [
    "missing_a_little = rows_missing_data[rows_missing_data<=20]\n",
    "missing_a_lot = rows_missing_data[rows_missing_data>20]"
   ]
  },
  {
   "cell_type": "code",
   "execution_count": 38,
   "metadata": {},
   "outputs": [
    {
     "name": "stdout",
     "output_type": "stream",
     "text": [
      "42698 (89.50987379984068%) rows are missing less than or equal to 20% of their data\n",
      "5004 (10.490126200159322%) rows are missing more than 20% of their data\n"
     ]
    }
   ],
   "source": [
    "print(f\"{missing_a_little.shape[0]} ({missing_a_little.shape[0]/Q3_dataset.shape[0]*100}%) rows are missing less than or equal to 20% of their data\")\n",
    "print(f\"{missing_a_lot.shape[0]} ({missing_a_lot.shape[0]/Q3_dataset.shape[0]*100}%) rows are missing more than 20% of their data\")"
   ]
  },
  {
   "cell_type": "code",
   "execution_count": 39,
   "metadata": {},
   "outputs": [],
   "source": [
    "# dropping rows that are missing a lot of their data\n",
    "Q3_dataset = Q3_dataset.loc[missing_a_little.index,:]"
   ]
  },
  {
   "cell_type": "markdown",
   "metadata": {},
   "source": [
    "### 3.3.3 - One-hot encode categorical and multi-valued columns"
   ]
  },
  {
   "cell_type": "markdown",
   "metadata": {},
   "source": [
    "In order to handle the multi-valued (semicolon seperated values) columns, we need to be build a custom function that parses these values into seperate columns. The functions below do exactly that."
   ]
  },
  {
   "cell_type": "code",
   "execution_count": 40,
   "metadata": {},
   "outputs": [],
   "source": [
    "def get_distinct_values_for_mixed_column(dataset,column):\n",
    "    all_distinct_values = []\n",
    "    distinct_values = dataset[column].unique()\n",
    "    for value in distinct_values:\n",
    "        try:\n",
    "            parts = value.split(\";\")\n",
    "            all_distinct_values.extend(parts)\n",
    "        except:\n",
    "          pass\n",
    "    duplicates_removed = set(all_distinct_values)\n",
    "    duplicates_removed = list(duplicates_removed)\n",
    "    return duplicates_removed\n",
    "        "
   ]
  },
  {
   "cell_type": "code",
   "execution_count": 41,
   "metadata": {},
   "outputs": [],
   "source": [
    "def one_hot_encode_multi_value_column(dataset,column):\n",
    "    #print(\"column: \"+column)\n",
    "    distinct_values = get_distinct_values_for_mixed_column(dataset,column)\n",
    "    for val in distinct_values:\n",
    "        #print('value: '+val)\n",
    "        dataset[column+'_'+val] = dataset[column].str.find(val)!=-1\n",
    "        dataset[column+'_'+val] = dataset[column+'_'+val].astype(int)\n",
    "    dataset = dataset.drop(column,axis=1)\n",
    "    return dataset"
   ]
  },
  {
   "cell_type": "code",
   "execution_count": 42,
   "metadata": {},
   "outputs": [],
   "source": [
    "def one_hot_encode_multivalue_columns(dataset,columns):\n",
    "    for col in columns:\n",
    "        dataset = one_hot_encode_multi_value_column(dataset,col)\n",
    "    return dataset"
   ]
  },
  {
   "cell_type": "markdown",
   "metadata": {},
   "source": [
    "I'll make a risky assumption here and take all object-typed columns as categorical columns. Of course, this is not an accurate thing to do as many of these fields are expected to be ordinal in nature. However, to keep this exercise simple, let's make this rediculous assumption and proceed."
   ]
  },
  {
   "cell_type": "code",
   "execution_count": 43,
   "metadata": {},
   "outputs": [],
   "source": [
    "categorical_columns = get_columns_metadata(Q3_dataset,'object')['dtype'].index.values"
   ]
  },
  {
   "cell_type": "code",
   "execution_count": 44,
   "metadata": {
    "scrolled": true
   },
   "outputs": [],
   "source": [
    "Q3_dataset_encoded = one_hot_encode_multivalue_columns(Q3_dataset,categorical_columns)"
   ]
  },
  {
   "cell_type": "markdown",
   "metadata": {},
   "source": [
    "Cool .. our data is now one-hot encoded and all our variable are now numerical."
   ]
  },
  {
   "cell_type": "markdown",
   "metadata": {},
   "source": [
    "### 3.3.4 - Imputation, Scaling, and train-test data splits"
   ]
  },
  {
   "cell_type": "markdown",
   "metadata": {},
   "source": [
    "We still have some NaN values in our reduced dataset. It's time now to impute these values with a simple imputer. Note that in a real-life scenario, imputation must be done carefully in a way that suits every single column. Instead, I will go ahead and impute all of my data with the \"Most Frequent\" value strategy."
   ]
  },
  {
   "cell_type": "code",
   "execution_count": 45,
   "metadata": {},
   "outputs": [
    {
     "name": "stderr",
     "output_type": "stream",
     "text": [
      "/usr/local/anaconda/lib/python3.7/site-packages/sklearn/utils/deprecation.py:58: DeprecationWarning: Class Imputer is deprecated; Imputer was deprecated in version 0.20 and will be removed in 0.22. Import impute.SimpleImputer from sklearn instead.\n",
      "  warnings.warn(msg, category=DeprecationWarning)\n"
     ]
    }
   ],
   "source": [
    "from sklearn.preprocessing import Imputer\n",
    "dataImputer = Imputer(missing_values=np.nan, strategy='most_frequent',axis=0)\n",
    "Q3_dataset_imputed = dataImputer.fit_transform(Q3_dataset_encoded)"
   ]
  },
  {
   "cell_type": "markdown",
   "metadata": {},
   "source": [
    "For the Regression model to work properly, we also need to scale all of our data such that we remove the biases in values. The easiest way to do that is to use Sci-kit Learn Standard Scaler."
   ]
  },
  {
   "cell_type": "code",
   "execution_count": 46,
   "metadata": {},
   "outputs": [],
   "source": [
    "from sklearn.preprocessing import StandardScaler\n",
    "dataScaler = StandardScaler()\n",
    "Q3_dataset_scaled = dataScaler.fit_transform(Q3_dataset_imputed)"
   ]
  },
  {
   "cell_type": "code",
   "execution_count": 47,
   "metadata": {},
   "outputs": [],
   "source": [
    "Q3_dataset_scaled = pd.DataFrame(Q3_dataset_scaled)\n",
    "Q3_dataset_scaled.columns = Q3_dataset_encoded.columns\n",
    "Q3_dataset_scaled.index = Q3_dataset_encoded.index"
   ]
  },
  {
   "cell_type": "code",
   "execution_count": 48,
   "metadata": {},
   "outputs": [],
   "source": [
    "Q3_y = Q3_dataset_scaled['ConvertedSalary']"
   ]
  },
  {
   "cell_type": "code",
   "execution_count": 49,
   "metadata": {},
   "outputs": [],
   "source": [
    "Q3_X = Q3_dataset_scaled.drop(['ConvertedSalary'],axis=1)"
   ]
  },
  {
   "cell_type": "markdown",
   "metadata": {},
   "source": [
    "Fantastic ... our data is ready for the regression model now. "
   ]
  },
  {
   "cell_type": "markdown",
   "metadata": {},
   "source": [
    "## 3.4 - Prepare data for Question 4\n",
    "- Question 4: Can we find a correlation between countries where programmers have lower income and contries were the whole economy has a lower GDP per captial?"
   ]
  },
  {
   "cell_type": "markdown",
   "metadata": {},
   "source": [
    "This question only requires two fields to be answered (namely, Country and ConvertedSalary). Accordinly, all rows missing one of these two should be dropped.\n",
    "\n",
    "One might suggest using our predictive model from Question 3 to predict and impute values for the ConvertedSalary field. This is a legitimate option. However, to keep this exercise simple, let's just drop the rows with the missing values."
   ]
  },
  {
   "cell_type": "code",
   "execution_count": 50,
   "metadata": {},
   "outputs": [
    {
     "data": {
      "text/plain": [
       "51.74548581255374"
      ]
     },
     "execution_count": 50,
     "metadata": {},
     "output_type": "execute_result"
    }
   ],
   "source": [
    "columns_metadata.loc['ConvertedSalary','percent_null']"
   ]
  },
  {
   "cell_type": "code",
   "execution_count": 51,
   "metadata": {},
   "outputs": [],
   "source": [
    "Q4_dataset,Q4_metadata = drop_rows_with_missing_values(survey_data[['Country','ConvertedSalary']],['Country','ConvertedSalary'])"
   ]
  },
  {
   "cell_type": "code",
   "execution_count": 52,
   "metadata": {},
   "outputs": [
    {
     "data": {
      "text/plain": [
       "51.88204946639017"
      ]
     },
     "execution_count": 52,
     "metadata": {},
     "output_type": "execute_result"
    }
   ],
   "source": [
    "Q4_metadata['dropped_percent']"
   ]
  },
  {
   "cell_type": "markdown",
   "metadata": {},
   "source": [
    "Bingo ... data for Question 4 is ready now."
   ]
  },
  {
   "cell_type": "markdown",
   "metadata": {},
   "source": [
    "------------------------------\n",
    "# 4 - Data Modeling"
   ]
  },
  {
   "cell_type": "markdown",
   "metadata": {},
   "source": [
    "## 4.1 Run a Random Forest Regressor to find the most influencial features predicting individuals' income"
   ]
  },
  {
   "cell_type": "markdown",
   "metadata": {},
   "source": [
    "In order to answer question 3, we need a predictive model for the ConvertedSalary target field. Here, I choose to use a Random Forest Regressor since it's easy to set us and requires little to no tuning."
   ]
  },
  {
   "cell_type": "code",
   "execution_count": 53,
   "metadata": {},
   "outputs": [],
   "source": [
    "from sklearn.ensemble import RandomForestRegressor\n",
    "from sklearn.model_selection import train_test_split"
   ]
  },
  {
   "cell_type": "code",
   "execution_count": 54,
   "metadata": {},
   "outputs": [],
   "source": [
    "X_train, X_test, y_train, y_test = train_test_split(Q3_X, Q3_y, test_size=0.20, random_state=42)"
   ]
  },
  {
   "cell_type": "code",
   "execution_count": 55,
   "metadata": {},
   "outputs": [],
   "source": [
    "regressor = RandomForestRegressor(n_estimators=100)"
   ]
  },
  {
   "cell_type": "code",
   "execution_count": 56,
   "metadata": {},
   "outputs": [
    {
     "data": {
      "text/plain": [
       "RandomForestRegressor(bootstrap=True, criterion='mse', max_depth=None,\n",
       "           max_features='auto', max_leaf_nodes=None,\n",
       "           min_impurity_decrease=0.0, min_impurity_split=None,\n",
       "           min_samples_leaf=1, min_samples_split=2,\n",
       "           min_weight_fraction_leaf=0.0, n_estimators=100, n_jobs=None,\n",
       "           oob_score=False, random_state=None, verbose=0, warm_start=False)"
      ]
     },
     "execution_count": 56,
     "metadata": {},
     "output_type": "execute_result"
    }
   ],
   "source": [
    "regressor.fit(X_train, y_train)"
   ]
  },
  {
   "cell_type": "code",
   "execution_count": 57,
   "metadata": {},
   "outputs": [],
   "source": [
    "y_train_pred = regressor.predict(X_train)\n",
    "y_test_pred = regressor.predict(X_test)"
   ]
  },
  {
   "cell_type": "code",
   "execution_count": 58,
   "metadata": {},
   "outputs": [
    {
     "name": "stdout",
     "output_type": "stream",
     "text": [
      "0.07370584836412335\n",
      "0.5138645938052707\n"
     ]
    }
   ],
   "source": [
    "from sklearn import metrics\n",
    "print(metrics.mean_squared_error(y_train, y_train_pred))\n",
    "print(metrics.mean_squared_error(y_test, y_test_pred))"
   ]
  },
  {
   "cell_type": "code",
   "execution_count": 59,
   "metadata": {},
   "outputs": [],
   "source": [
    "important_features = pd.Series(data=regressor.feature_importances_,index=X_train.columns)\n",
    "important_features.sort_values(ascending=False,inplace=True)"
   ]
  },
  {
   "cell_type": "markdown",
   "metadata": {},
   "source": [
    "Good ... now we can proceed to the analysis and results"
   ]
  },
  {
   "cell_type": "markdown",
   "metadata": {},
   "source": [
    "----------------------------\n",
    "# 5 - Results"
   ]
  },
  {
   "cell_type": "markdown",
   "metadata": {},
   "source": [
    "## 5.1 - Does the Survery data have over-represented or under-represented countries?"
   ]
  },
  {
   "cell_type": "code",
   "execution_count": 60,
   "metadata": {},
   "outputs": [],
   "source": [
    "Q1_stats = Q1_dataset.groupby('Country')['Population_2018'].agg(['count','mean'])\n",
    "Q1_stats = Q1_stats.sort_values(by='count',ascending=False)\n",
    "Q1_stats.columns = ['NumberOfResponses','Population']"
   ]
  },
  {
   "cell_type": "code",
   "execution_count": 61,
   "metadata": {},
   "outputs": [],
   "source": [
    "Q1_stats['NoR_percent'] = Q1_stats['NumberOfResponses']/len(Q1_dataset)*100\n",
    "Q1_stats['Population_percent'] = Q1_stats['Population']/len(Q1_dataset)*100"
   ]
  },
  {
   "cell_type": "code",
   "execution_count": 62,
   "metadata": {},
   "outputs": [],
   "source": [
    "count_rows_by_country_percent_others = Q1_stats[0:15]['NoR_percent']"
   ]
  },
  {
   "cell_type": "code",
   "execution_count": 63,
   "metadata": {},
   "outputs": [
    {
     "name": "stderr",
     "output_type": "stream",
     "text": [
      "/usr/local/anaconda/lib/python3.7/site-packages/pandas/core/series.py:1015: SettingWithCopyWarning: \n",
      "A value is trying to be set on a copy of a slice from a DataFrame\n",
      "\n",
      "See the caveats in the documentation: http://pandas.pydata.org/pandas-docs/stable/indexing.html#indexing-view-versus-copy\n",
      "  self.loc[key] = value\n",
      "/usr/local/anaconda/lib/python3.7/site-packages/IPython/core/interactiveshell.py:3296: SettingWithCopyWarning: \n",
      "A value is trying to be set on a copy of a slice from a DataFrame\n",
      "\n",
      "See the caveats in the documentation: http://pandas.pydata.org/pandas-docs/stable/indexing.html#indexing-view-versus-copy\n",
      "  exec(code_obj, self.user_global_ns, self.user_ns)\n"
     ]
    }
   ],
   "source": [
    "count_rows_by_country_percent_others['Others'] = 100-count_rows_by_country_percent_others.sum()"
   ]
  },
  {
   "cell_type": "code",
   "execution_count": 64,
   "metadata": {},
   "outputs": [],
   "source": [
    "def plot_pie_chart(series,title):\n",
    "    fig1, ax1 = plt.subplots(figsize=(10, 8))\n",
    "    ax1.pie(series.values, labels=series.index.values, autopct='%1.1f%%')\n",
    "    ax1.axis('equal')\n",
    "    plt.title(title,y=1.03,bbox={'facecolor':'0.8', 'pad':5})\n",
    "    plt.show();"
   ]
  },
  {
   "cell_type": "code",
   "execution_count": 65,
   "metadata": {},
   "outputs": [
    {
     "data": {
      "image/png": "[encoded data removed]",
      "text/plain": [
       "<Figure size 720x576 with 1 Axes>"
      ]
     },
     "metadata": {},
     "output_type": "display_data"
    }
   ],
   "source": [
    "plot_pie_chart(count_rows_by_country_percent_others,\"Survey Responses by Country\")"
   ]
  },
  {
   "cell_type": "markdown",
   "metadata": {},
   "source": [
    "From the pie chart above, the top 15 countries represented in the StackOverflow survery account for 70% of the survey responses. In the remainder of the analysis, we will focus on the these top 15 countries for the following reason."
   ]
  },
  {
   "cell_type": "code",
   "execution_count": 66,
   "metadata": {},
   "outputs": [],
   "source": [
    "Q1_stats_top15 = Q1_stats[0:15]"
   ]
  },
  {
   "cell_type": "code",
   "execution_count": 67,
   "metadata": {
    "scrolled": true
   },
   "outputs": [
    {
     "name": "stderr",
     "output_type": "stream",
     "text": [
      "/usr/local/anaconda/lib/python3.7/site-packages/ipykernel_launcher.py:1: SettingWithCopyWarning: \n",
      "A value is trying to be set on a copy of a slice from a DataFrame.\n",
      "Try using .loc[row_indexer,col_indexer] = value instead\n",
      "\n",
      "See the caveats in the documentation: http://pandas.pydata.org/pandas-docs/stable/indexing.html#indexing-view-versus-copy\n",
      "  \"\"\"Entry point for launching an IPython kernel.\n",
      "/usr/local/anaconda/lib/python3.7/site-packages/ipykernel_launcher.py:2: SettingWithCopyWarning: \n",
      "A value is trying to be set on a copy of a slice from a DataFrame.\n",
      "Try using .loc[row_indexer,col_indexer] = value instead\n",
      "\n",
      "See the caveats in the documentation: http://pandas.pydata.org/pandas-docs/stable/indexing.html#indexing-view-versus-copy\n",
      "  \n"
     ]
    }
   ],
   "source": [
    "Q1_stats_top15['NoR_percent_to_subset'] = Q1_stats_top15['NumberOfResponses']/Q1_stats_top15['NumberOfResponses'].sum()*100\n",
    "Q1_stats_top15['population_percent_to_subset'] = Q1_stats_top15['Population']/Q1_stats_top15['Population'].sum()*100"
   ]
  },
  {
   "cell_type": "code",
   "execution_count": 68,
   "metadata": {},
   "outputs": [
    {
     "data": {
      "image/png": "[encoded data removed]",
      "text/plain": [
       "<Figure size 720x576 with 1 Axes>"
      ]
     },
     "metadata": {},
     "output_type": "display_data"
    }
   ],
   "source": [
    "plot_pie_chart(Q1_stats_top15['NoR_percent_to_subset'],\"Responses share by country (percentages are to the total of the subset only)\")"
   ]
  },
  {
   "cell_type": "code",
   "execution_count": 85,
   "metadata": {},
   "outputs": [
    {
     "data": {
      "text/html": [
       "<div>\n",
       "<style scoped>\n",
       "    .dataframe tbody tr th:only-of-type {\n",
       "        vertical-align: middle;\n",
       "    }\n",
       "\n",
       "    .dataframe tbody tr th {\n",
       "        vertical-align: top;\n",
       "    }\n",
       "\n",
       "    .dataframe thead th {\n",
       "        text-align: right;\n",
       "    }\n",
       "</style>\n",
       "<table border=\"1\" class=\"dataframe\">\n",
       "  <thead>\n",
       "    <tr style=\"text-align: right;\">\n",
       "      <th></th>\n",
       "      <th>Population</th>\n",
       "    </tr>\n",
       "    <tr>\n",
       "      <th>Country</th>\n",
       "      <th></th>\n",
       "    </tr>\n",
       "  </thead>\n",
       "  <tbody>\n",
       "    <tr>\n",
       "      <th>United States</th>\n",
       "      <td>3.271674e+08</td>\n",
       "    </tr>\n",
       "    <tr>\n",
       "      <th>India</th>\n",
       "      <td>1.352617e+09</td>\n",
       "    </tr>\n",
       "    <tr>\n",
       "      <th>Germany</th>\n",
       "      <td>8.292792e+07</td>\n",
       "    </tr>\n",
       "    <tr>\n",
       "      <th>United Kingdom</th>\n",
       "      <td>6.648899e+07</td>\n",
       "    </tr>\n",
       "    <tr>\n",
       "      <th>Canada</th>\n",
       "      <td>3.705886e+07</td>\n",
       "    </tr>\n",
       "    <tr>\n",
       "      <th>Russian Federation</th>\n",
       "      <td>1.444780e+08</td>\n",
       "    </tr>\n",
       "    <tr>\n",
       "      <th>France</th>\n",
       "      <td>6.698724e+07</td>\n",
       "    </tr>\n",
       "    <tr>\n",
       "      <th>Brazil</th>\n",
       "      <td>2.094693e+08</td>\n",
       "    </tr>\n",
       "    <tr>\n",
       "      <th>Poland</th>\n",
       "      <td>3.797855e+07</td>\n",
       "    </tr>\n",
       "    <tr>\n",
       "      <th>Australia</th>\n",
       "      <td>2.499237e+07</td>\n",
       "    </tr>\n",
       "    <tr>\n",
       "      <th>Netherlands</th>\n",
       "      <td>1.723102e+07</td>\n",
       "    </tr>\n",
       "    <tr>\n",
       "      <th>Spain</th>\n",
       "      <td>4.672375e+07</td>\n",
       "    </tr>\n",
       "    <tr>\n",
       "      <th>Italy</th>\n",
       "      <td>6.043128e+07</td>\n",
       "    </tr>\n",
       "    <tr>\n",
       "      <th>Ukraine</th>\n",
       "      <td>4.462252e+07</td>\n",
       "    </tr>\n",
       "    <tr>\n",
       "      <th>Sweden</th>\n",
       "      <td>1.018318e+07</td>\n",
       "    </tr>\n",
       "  </tbody>\n",
       "</table>\n",
       "</div>"
      ],
      "text/plain": [
       "                      Population\n",
       "Country                         \n",
       "United States       3.271674e+08\n",
       "India               1.352617e+09\n",
       "Germany             8.292792e+07\n",
       "United Kingdom      6.648899e+07\n",
       "Canada              3.705886e+07\n",
       "Russian Federation  1.444780e+08\n",
       "France              6.698724e+07\n",
       "Brazil              2.094693e+08\n",
       "Poland              3.797855e+07\n",
       "Australia           2.499237e+07\n",
       "Netherlands         1.723102e+07\n",
       "Spain               4.672375e+07\n",
       "Italy               6.043128e+07\n",
       "Ukraine             4.462252e+07\n",
       "Sweden              1.018318e+07"
      ]
     },
     "execution_count": 85,
     "metadata": {},
     "output_type": "execute_result"
    }
   ],
   "source": [
    "pd.DataFrame(Q1_stats_top15['Population'])"
   ]
  },
  {
   "cell_type": "code",
   "execution_count": 69,
   "metadata": {},
   "outputs": [
    {
     "data": {
      "image/png": "[encoded data removed]",
      "text/plain": [
       "<Figure size 720x576 with 1 Axes>"
      ]
     },
     "metadata": {},
     "output_type": "display_data"
    }
   ],
   "source": [
    "plot_pie_chart(Q1_stats_top15['population_percent_to_subset'],\"Population Percent Share (to subset total)\")"
   ]
  },
  {
   "cell_type": "code",
   "execution_count": 70,
   "metadata": {},
   "outputs": [],
   "source": [
    "representation_ratio_in_subset = Q1_stats_top15['NumberOfResponses']/Q1_stats_top15['Population']\n",
    "representation_ratio_in_subset = representation_ratio_in_subset.sort_values(ascending=False)"
   ]
  },
  {
   "cell_type": "code",
   "execution_count": 86,
   "metadata": {},
   "outputs": [
    {
     "data": {
      "image/png": "[encoded data removed]",
      "text/plain": [
       "<Figure size 1080x360 with 1 Axes>"
      ]
     },
     "metadata": {
      "needs_background": "light"
     },
     "output_type": "display_data"
    }
   ],
   "source": [
    "fig1, ax1 = plt.subplots(figsize=(15, 5))\n",
    "ax1.bar(representation_ratio_in_subset.index.values,representation_ratio_in_subset.values)\n",
    "plt.xticks(rotation='vertical')\n",
    "plt.title(\"Representation Ration (#Survey Responses/Population)\",y=1.03,bbox={'facecolor':'0.8', 'pad':5})\n",
    "\n",
    "plt.show()"
   ]
  },
  {
   "cell_type": "markdown",
   "metadata": {},
   "source": [
    "### Analysis\n",
    "\n",
    "- It's noted that countries where English is a native language have a higher representation in the Survey date.\n",
    "- Moreover, this also holds true for countries in Europe / Westren Europe.\n",
    "- It is surprising that countries like Japan, China, and South Korea (which are amonge the top economies of the world) are not even amoung the top 15 countries of the survey despite their florishing IT industries.\n",
    "- One explaination for the under-representation is the language barreier which can serve for the minimal function of inspecting code and error messages in a useful way, but is not sufficient for StackOverflow contributions both in terms of posts or reponses to surveys.\n",
    "- Moreover, there could be some alternatives for StackOverflow in the native languages of the programmers of the under-represented countries which could be the reason why major economies such as Japan, China, and South Korea are under-represented."
   ]
  },
  {
   "cell_type": "markdown",
   "metadata": {},
   "source": [
    "## 5.2 - What is the gender representation in the workforce per country?"
   ]
  },
  {
   "cell_type": "code",
   "execution_count": 72,
   "metadata": {},
   "outputs": [],
   "source": [
    "country_gender_data = summarize_categorical_column(Q2_dataset,'Gender',['Male','Female'],\"Country\")"
   ]
  },
  {
   "cell_type": "code",
   "execution_count": 87,
   "metadata": {},
   "outputs": [
    {
     "data": {
      "image/png": "[encoded data removed]",
      "text/plain": [
       "<Figure size 720x576 with 1 Axes>"
      ]
     },
     "metadata": {},
     "output_type": "display_data"
    }
   ],
   "source": [
    "plot_pie_chart(country_gender_data.loc[:,['Male','Female','Others']].sum(),\"Gender Share in Survey Responses\")"
   ]
  },
  {
   "cell_type": "code",
   "execution_count": 74,
   "metadata": {},
   "outputs": [],
   "source": [
    "gender_count_top15_countries = country_gender_data.loc[Q1_stats_top15.index.values,:]"
   ]
  },
  {
   "cell_type": "code",
   "execution_count": 88,
   "metadata": {},
   "outputs": [
    {
     "data": {
      "image/png": "[encoded data removed]",
      "text/plain": [
       "<Figure size 432x288 with 1 Axes>"
      ]
     },
     "metadata": {
      "needs_background": "light"
     },
     "output_type": "display_data"
    }
   ],
   "source": [
    "import matplotlib.pyplot as plt\n",
    "import numpy as np\n",
    "\n",
    "a = gender_count_top15_countries['Male'].values\n",
    "b = gender_count_top15_countries['Female'].values\n",
    "x = np.arange(len(gender_count_top15_countries.index.values))\n",
    "ax1 = plt.subplot(1,1,1)\n",
    "w = 0.3\n",
    "\n",
    "\n",
    "#plt.xticks(), will label the bars on x axis with the respective country names.\n",
    "plt.xticks(x + w /2, gender_count_top15_countries.index.values, rotation='vertical')\n",
    "pop =ax1.bar(x, a, width=w, color='b', align='center')\n",
    "\n",
    "#The trick is to use two different axes that share the same x axis, we have used ax1.twinx() method.\n",
    "#ax2 = ax1.twinx()\n",
    "\n",
    "#We have calculated GDP by dividing gdpPerCapita to population.\n",
    "gdp =ax1.bar(x + w, b, width=w,color='g',align='center')\n",
    "\n",
    "plt.ylabel('count')\n",
    "\n",
    "#To set the legend on the plot we have used plt.legend()\n",
    "plt.legend([pop, gdp],['Male', 'Female'])\n",
    "plt.title(\"Gender count by Country from the StackOverflow Survey 2018\",y=1.03,bbox={'facecolor':'0.8', 'pad':5})\n",
    "\n",
    "#To show the plot finally we have used plt.show().\n",
    "plt.show()"
   ]
  },
  {
   "cell_type": "code",
   "execution_count": 76,
   "metadata": {},
   "outputs": [],
   "source": [
    "gender_count_top15_countries['Male/Female Ratio'] = gender_count_top15_countries['Male']/gender_count_top15_countries['Female']"
   ]
  },
  {
   "cell_type": "code",
   "execution_count": 77,
   "metadata": {},
   "outputs": [],
   "source": [
    "gender_count_top15_countries = gender_count_top15_countries.sort_values(by=[\"Male/Female Ratio\"],ascending=False)"
   ]
  },
  {
   "cell_type": "code",
   "execution_count": 90,
   "metadata": {},
   "outputs": [
    {
     "data": {
      "image/png": "[encoded data removed]",
      "text/plain": [
       "<Figure size 1080x360 with 1 Axes>"
      ]
     },
     "metadata": {
      "needs_background": "light"
     },
     "output_type": "display_data"
    }
   ],
   "source": [
    "fig1, ax1 = plt.subplots(figsize=(15, 5))\n",
    "ax1.bar(gender_count_top15_countries.index.values,gender_count_top15_countries['Male/Female Ratio'].values)\n",
    "plt.xticks(rotation='vertical')\n",
    "plt.title(\"Male-to-Female ratio by Country (Based on StackOverflow Survey Responses)\",y=1.03,bbox={'facecolor':'0.8', 'pad':5})\n",
    "\n",
    "\n",
    "plt.show()"
   ]
  },
  {
   "cell_type": "markdown",
   "metadata": {},
   "source": [
    "### Analysis\n",
    "- It's quite obvious that Males are far more over-represented in the IT industry compared to Females (or any other Gender for that matter).\n",
    "- Countrary to intuition, some European countries (e.g. Italy, Sweden, Germany, France), which are expected to be more egalitarian compared to their Eastern counterparts, actually have a higher ratio of male to female employees.\n",
    "- Countries such as India for example, which is expected to be less egalitarian than it's Europena counter parts, seems to have a lower ratio of male-to-female in the IT industry."
   ]
  },
  {
   "cell_type": "markdown",
   "metadata": {},
   "source": [
    "## 5.3 - Can we find a correlation between countries where programmers have lower income and countries were the whole economy has a lower GDP per captial?"
   ]
  },
  {
   "cell_type": "code",
   "execution_count": 79,
   "metadata": {},
   "outputs": [],
   "source": [
    "Converted_Salary_by_country = Q3_dataset.groupby(['Country'])[['Country','ConvertedSalary','GDP_per_Capita_2018']].mean()"
   ]
  },
  {
   "cell_type": "markdown",
   "metadata": {},
   "source": [
    "It's important to note that I performed no imputation here because it will necessarily impact the mean and distribution of the values. Accordingly, I decided to calculate some simple statistics on the available data with no imputations."
   ]
  },
  {
   "cell_type": "code",
   "execution_count": 80,
   "metadata": {},
   "outputs": [],
   "source": [
    "Converted_Salary_by_country_top15 = Converted_Salary_by_country.loc[Q1_stats_top15.index.values,:]\n",
    "Converted_Salary_by_country_top15=Converted_Salary_by_country_top15.sort_values(by=\"ConvertedSalary\",ascending=False)"
   ]
  },
  {
   "cell_type": "code",
   "execution_count": 92,
   "metadata": {},
   "outputs": [
    {
     "data": {
      "image/png": "[encoded data removed]",
      "text/plain": [
       "<Figure size 432x288 with 1 Axes>"
      ]
     },
     "metadata": {
      "needs_background": "light"
     },
     "output_type": "display_data"
    }
   ],
   "source": [
    "import matplotlib.pyplot as plt\n",
    "import numpy as np\n",
    "\n",
    "a = Converted_Salary_by_country_top15['ConvertedSalary'].values\n",
    "b = Converted_Salary_by_country_top15['GDP_per_Capita_2018'].values\n",
    "x = np.arange(len(Converted_Salary_by_country_top15.index.values))\n",
    "ax1 = plt.subplot(1,1,1)\n",
    "w = 0.3\n",
    "\n",
    "\n",
    "#plt.xticks(), will label the bars on x axis with the respective country names.\n",
    "plt.xticks(x + w /2, Converted_Salary_by_country_top15.index.values, rotation='vertical')\n",
    "pop =ax1.bar(x, a, width=w, color='b', align='center')\n",
    "\n",
    "#The trick is to use two different axes that share the same x axis, we have used ax1.twinx() method.\n",
    "#ax2 = ax1.twinx()\n",
    "\n",
    "#We have calculated GDP by dividing gdpPerCapita to population.\n",
    "gdp =ax1.bar(x + w, b, width=w,color='g',align='center')\n",
    "\n",
    "plt.ylabel('Value in USD')\n",
    "\n",
    "#To set the legend on the plot we have used plt.legend()\n",
    "plt.legend([pop, gdp],['Converted Salary (mean)', 'GDP per Capita'])\n",
    "plt.title(\"Respondent Annual income in USD by Country\",y=1.03,bbox={'facecolor':'0.8', 'pad':5})\n",
    "\n",
    "#To show the plot finally we have used plt.show().\n",
    "plt.show()"
   ]
  },
  {
   "cell_type": "markdown",
   "metadata": {},
   "source": [
    "### Analysis\n",
    "- Despite that countries with lower GDP per Capita have lower programmer incomes, GDP per capita does not seem to serve as a good perdictor of individuals' income.\n",
    "- It is surprizing to see that the mean programmer income in Russia has a lower value compared to the GDP per Captia.\n",
    "    - This can be due to inaccuracy in data gathering.\n",
    "    - Another explaination is a missing aspect of taxation that was not considered. For example, if the country has higher taxation and bigger role in Wellfare programms, the final taxed income might shrink in value.\n",
    "    - A third explaination is the possibility of an excess of the programmers supply leading to incomes below the GDP per capita."
   ]
  },
  {
   "cell_type": "markdown",
   "metadata": {},
   "source": [
    "## 5.4 - What are the most infulencial dimensions in predicting an individuals income?"
   ]
  },
  {
   "cell_type": "code",
   "execution_count": 82,
   "metadata": {},
   "outputs": [
    {
     "data": {
      "text/plain": [
       "Employment_Employed full-time    1.055692e-01\n",
       "Country_United States            9.267441e-02\n",
       "SalaryType_Yearly                6.078668e-02\n",
       "GDP_per_Capita_2018              4.282363e-02\n",
       "SalaryType_Monthly               3.576501e-02\n",
       "Population_2018                  3.494155e-02\n",
       "CurrencySymbol_GBP               1.478685e-02\n",
       "YearsCodingProf_0-2 years        1.463944e-02\n",
       "DevType_Student                  1.296580e-02\n",
       "Country_United Kingdom           1.214124e-02\n",
       "Country_Canada                   7.526113e-03\n",
       "AssessBenefits8                  7.335879e-03\n",
       "AssessBenefits4                  6.636468e-03\n",
       "AssessBenefits3                  6.467504e-03\n",
       "Age_18 - 24 years old            6.348436e-03\n",
       "JobEmailPriorities5              6.085571e-03\n",
       "CurrencySymbol_AUD               5.640801e-03\n",
       "YearsCodingProf_3-5 years        5.474119e-03\n",
       "AssessBenefits10                 5.424212e-03\n",
       "AssessBenefits5                  5.368756e-03\n",
       "AssessBenefits2                  5.325618e-03\n",
       "AssessJob6                       5.308185e-03\n",
       "AssessBenefits11                 5.300276e-03\n",
       "AssessJob3                       5.262010e-03\n",
       "Age_35 - 44 years old            5.246844e-03\n",
       "JobContactPriorities3            5.126684e-03\n",
       "AssessJob7                       5.067397e-03\n",
       "AssessJob1                       4.978116e-03\n",
       "AssessBenefits6                  4.664912e-03\n",
       "AssessBenefits7                  4.496102e-03\n",
       "                                     ...     \n",
       "CurrencySymbol_BYN               1.879347e-09\n",
       "Country_Qatar                    1.775878e-09\n",
       "CurrencySymbol_HNL               1.656983e-09\n",
       "CurrencySymbol_PYG               1.333773e-09\n",
       "Country_Somalia                  5.929339e-10\n",
       "CurrencySymbol_ETB               4.003329e-10\n",
       "CurrencySymbol_UYU               3.996106e-10\n",
       "CurrencySymbol_KWD               3.155435e-10\n",
       "CurrencySymbol_MMK               1.423857e-10\n",
       "CurrencySymbol_FJD               1.120479e-10\n",
       "CurrencySymbol_GEL               9.372861e-11\n",
       "CurrencySymbol_KGS               9.153921e-11\n",
       "CurrencySymbol_BOB               5.973370e-11\n",
       "CurrencySymbol_MVR               3.041098e-12\n",
       "CurrencySymbol_MNT               1.413553e-12\n",
       "CurrencySymbol_CUC               2.938049e-13\n",
       "CurrencySymbol_JMD               0.000000e+00\n",
       "CurrencySymbol_YER               0.000000e+00\n",
       "CurrencySymbol_UZS               0.000000e+00\n",
       "CurrencySymbol_OMR               0.000000e+00\n",
       "CurrencySymbol_BTN               0.000000e+00\n",
       "CurrencySymbol_MUR               0.000000e+00\n",
       "CurrencySymbol_ALL               0.000000e+00\n",
       "CurrencySymbol_AZN               0.000000e+00\n",
       "CurrencySymbol_GMD               0.000000e+00\n",
       "CurrencySymbol_MGA               0.000000e+00\n",
       "CurrencySymbol_IQD               0.000000e+00\n",
       "CurrencySymbol_QAR               0.000000e+00\n",
       "CurrencySymbol_AFN               0.000000e+00\n",
       "CurrencySymbol_XPF               0.000000e+00\n",
       "Length: 921, dtype: float64"
      ]
     },
     "execution_count": 82,
     "metadata": {},
     "output_type": "execute_result"
    }
   ],
   "source": [
    "important_features"
   ]
  },
  {
   "cell_type": "code",
   "execution_count": 96,
   "metadata": {},
   "outputs": [
    {
     "data": {
      "text/plain": [
       "Text(0.5, 1.0, 'Feature importance')"
      ]
     },
     "execution_count": 96,
     "metadata": {},
     "output_type": "execute_result"
    },
    {
     "data": {
      "image/png": "[encoded data removed]",
      "text/plain": [
       "<Figure size 576x720 with 1 Axes>"
      ]
     },
     "metadata": {
      "needs_background": "light"
     },
     "output_type": "display_data"
    }
   ],
   "source": [
    "imp_coef = important_features[0:10]\n",
    "imp_coef = imp_coef.sort_values()\n",
    "import matplotlib\n",
    "matplotlib.rcParams['figure.figsize'] = (8.0, 10.0)\n",
    "imp_coef.plot(kind = \"barh\")\n",
    "plt.title(\"Feature importance\")"
   ]
  },
  {
   "cell_type": "markdown",
   "metadata": {},
   "source": [
    "### Analysis"
   ]
  },
  {
   "cell_type": "markdown",
   "metadata": {},
   "source": [
    "- Surprise surprise, having a full-time job is the most significant predictor of income. However, this goes without saying. A jobless person definately makes less than one with a job.\n",
    "- The second most important feature to predict an individual's income is whether that individual is working in the U.S. or not. Considering the fact that a signigicant proportion of the survey data we have at hand is from the U.S., there is a chance that the model has overfit that variable.\n",
    "- The third most significant factor in predicting an individual's income is the Salary Type being Annual as opposed to the other types. It's important to note that an individual might tend to overlook yearly allowances and ponuses when reporting his/her monthly or weekly pay. Therefore, the survey might probably need to take that kind of bias in future iterations.\n",
    "- The fourth most important factor in predicting individual's income is the GDP per Capita. This is a very predictable outcome as lower GDP per Capita usually is correlated with lower exchange rates leading to inaccurate representation of income. I would very much re-calibrate my data (if further analysis to be done) to represent the Purchasing Power Parity (PPP for short) before predicting Annual Salary. Moreover, comparing annual incomes directly without considering the role of Social Insurance and taxation aspects, might also lead to biases in the income data that distort an accurate representation of the relative standard of living of the individuals in question."
   ]
  },
  {
   "cell_type": "markdown",
   "metadata": {},
   "source": [
    "-------------------------"
   ]
  }
 ],
 "metadata": {
  "kernelspec": {
   "display_name": "Python 3",
   "language": "python",
   "name": "python3"
  },
  "language_info": {
   "codemirror_mode": {
    "name": "ipython",
    "version": 3
   },
   "file_extension": ".py",
   "mimetype": "text/x-python",
   "name": "python",
   "nbconvert_exporter": "python",
   "pygments_lexer": "ipython3",
   "version": "3.7.3"
  }
 },
 "nbformat": 4,
 "nbformat_minor": 2
}
